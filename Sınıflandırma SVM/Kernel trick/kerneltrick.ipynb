{
 "cells": [
  {
   "cell_type": "code",
   "execution_count": 1,
   "id": "6349406c-17f6-4d5d-a213-62c008c2610e",
   "metadata": {},
   "outputs": [],
   "source": [
    "# bu derste oldukça yaygın olan kernel tricke göz atacağız"
   ]
  },
  {
   "cell_type": "code",
   "execution_count": null,
   "id": "e5bf4215-bdc8-4d62-b411-24125ecdba88",
   "metadata": {},
   "outputs": [],
   "source": []
  }
 ],
 "metadata": {
  "kernelspec": {
   "display_name": "Python 3 (ipykernel)",
   "language": "python",
   "name": "python3"
  },
  "language_info": {
   "codemirror_mode": {
    "name": "ipython",
    "version": 3
   },
   "file_extension": ".py",
   "mimetype": "text/x-python",
   "name": "python",
   "nbconvert_exporter": "python",
   "pygments_lexer": "ipython3",
   "version": "3.9.12"
  }
 },
 "nbformat": 4,
 "nbformat_minor": 5
}
