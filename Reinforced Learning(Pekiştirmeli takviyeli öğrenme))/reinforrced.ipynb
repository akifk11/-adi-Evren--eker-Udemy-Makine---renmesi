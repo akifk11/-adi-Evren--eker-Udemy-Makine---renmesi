{
 "cells": [
  {
   "cell_type": "code",
   "execution_count": 1,
   "id": "14899a7a-49a8-42de-b169-a3820391940f",
   "metadata": {},
   "outputs": [],
   "source": [
    "# şuanda bütün teknoji firmaları bunu kullanmakta"
   ]
  },
  {
   "cell_type": "code",
   "execution_count": 2,
   "id": "a535a0d0-16de-4e49-a293-cb8075a11b2e",
   "metadata": {},
   "outputs": [],
   "source": [
    "# kendi kendine öğrenmedir"
   ]
  },
  {
   "cell_type": "code",
   "execution_count": null,
   "id": "69bb321b-a859-4685-82f6-f3f6d3e02b03",
   "metadata": {},
   "outputs": [],
   "source": []
  }
 ],
 "metadata": {
  "kernelspec": {
   "display_name": "Python 3 (ipykernel)",
   "language": "python",
   "name": "python3"
  },
  "language_info": {
   "codemirror_mode": {
    "name": "ipython",
    "version": 3
   },
   "file_extension": ".py",
   "mimetype": "text/x-python",
   "name": "python",
   "nbconvert_exporter": "python",
   "pygments_lexer": "ipython3",
   "version": "3.9.12"
  }
 },
 "nbformat": 4,
 "nbformat_minor": 5
}
