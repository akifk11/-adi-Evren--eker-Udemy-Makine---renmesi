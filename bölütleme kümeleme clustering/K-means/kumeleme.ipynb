{
 "cells": [
  {
   "cell_type": "markdown",
   "id": "ee1a7a31-1cc6-4475-9d58-7facb76e8895",
   "metadata": {},
   "source": [
    "# Bölütleme/Kümeleme Clustering"
   ]
  },
  {
   "cell_type": "code",
   "execution_count": 2,
   "id": "b26f921c-54c2-44c6-ab13-27e1b5c85c0c",
   "metadata": {},
   "outputs": [],
   "source": [
    "# aslında makine öğrenmesi algoritmalarının çokta gelişmiş olmadığı bir bölümdür"
   ]
  },
  {
   "cell_type": "code",
   "execution_count": 3,
   "id": "4d466775-4657-42dc-b00a-af64b94531ff",
   "metadata": {},
   "outputs": [],
   "source": [
    "# bilgisayarlı görü ve müşteri segmentasyonu bu alanda hızlı bir gelişime sebep oldular"
   ]
  },
  {
   "cell_type": "code",
   "execution_count": 5,
   "id": "52846879-1326-4961-aebc-d4c5e2f2ca58",
   "metadata": {},
   "outputs": [],
   "source": [
    "# en çok kullanılan başlıklar\n",
    "# Müşteri segmentasyonu\n",
    "# Pazar segmentasyonu\n",
    "# Sağlık ve görüntü işleme"
   ]
  },
  {
   "cell_type": "code",
   "execution_count": null,
   "id": "280d95a6-6eca-479c-a474-947362bd4b02",
   "metadata": {},
   "outputs": [],
   "source": []
  }
 ],
 "metadata": {
  "kernelspec": {
   "display_name": "Python 3 (ipykernel)",
   "language": "python",
   "name": "python3"
  },
  "language_info": {
   "codemirror_mode": {
    "name": "ipython",
    "version": 3
   },
   "file_extension": ".py",
   "mimetype": "text/x-python",
   "name": "python",
   "nbconvert_exporter": "python",
   "pygments_lexer": "ipython3",
   "version": "3.9.12"
  }
 },
 "nbformat": 4,
 "nbformat_minor": 5
}
