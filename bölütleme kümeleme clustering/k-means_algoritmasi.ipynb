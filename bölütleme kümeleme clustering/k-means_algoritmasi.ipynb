{
 "cells": [
  {
   "cell_type": "code",
   "execution_count": 12,
   "id": "febd0e23-7f55-425d-aaaf-a9d262b8a8cb",
   "metadata": {},
   "outputs": [],
   "source": [
    "# k-means(k ortalama)"
   ]
  },
  {
   "cell_type": "code",
   "execution_count": 13,
   "id": "5d756f23-7657-45b0-8947-c0d1440c3b68",
   "metadata": {},
   "outputs": [],
   "source": [
    "# unsupervised (gözetimsiz) bir öğrenmedir"
   ]
  },
  {
   "cell_type": "code",
   "execution_count": 14,
   "id": "ee73e574-68fc-4903-9bc7-45eff51e0c1c",
   "metadata": {},
   "outputs": [
    {
     "ename": "FileNotFoundError",
     "evalue": "[Errno 2] No such file or directory: 'musteriler.csv'",
     "output_type": "error",
     "traceback": [
      "\u001b[0;31m---------------------------------------------------------------------------\u001b[0m",
      "\u001b[0;31mFileNotFoundError\u001b[0m                         Traceback (most recent call last)",
      "Input \u001b[0;32mIn [14]\u001b[0m, in \u001b[0;36m<cell line: 5>\u001b[0;34m()\u001b[0m\n\u001b[1;32m      2\u001b[0m \u001b[38;5;28;01mimport\u001b[39;00m \u001b[38;5;21;01mpandas\u001b[39;00m \u001b[38;5;28;01mas\u001b[39;00m \u001b[38;5;21;01mpd\u001b[39;00m\n\u001b[1;32m      3\u001b[0m \u001b[38;5;28;01mimport\u001b[39;00m \u001b[38;5;21;01mmatplotlib\u001b[39;00m\u001b[38;5;21;01m.\u001b[39;00m\u001b[38;5;21;01mpyplot\u001b[39;00m \u001b[38;5;28;01mas\u001b[39;00m \u001b[38;5;21;01mplt\u001b[39;00m\n\u001b[0;32m----> 5\u001b[0m veriler \u001b[38;5;241m=\u001b[39m \u001b[43mpd\u001b[49m\u001b[38;5;241;43m.\u001b[39;49m\u001b[43mread_csv\u001b[49m\u001b[43m(\u001b[49m\u001b[38;5;124;43m'\u001b[39;49m\u001b[38;5;124;43mmusteriler.csv\u001b[39;49m\u001b[38;5;124;43m'\u001b[39;49m\u001b[43m)\u001b[49m\n",
      "File \u001b[0;32m~/opt/anaconda3/lib/python3.9/site-packages/pandas/util/_decorators.py:311\u001b[0m, in \u001b[0;36mdeprecate_nonkeyword_arguments.<locals>.decorate.<locals>.wrapper\u001b[0;34m(*args, **kwargs)\u001b[0m\n\u001b[1;32m    305\u001b[0m \u001b[38;5;28;01mif\u001b[39;00m \u001b[38;5;28mlen\u001b[39m(args) \u001b[38;5;241m>\u001b[39m num_allow_args:\n\u001b[1;32m    306\u001b[0m     warnings\u001b[38;5;241m.\u001b[39mwarn(\n\u001b[1;32m    307\u001b[0m         msg\u001b[38;5;241m.\u001b[39mformat(arguments\u001b[38;5;241m=\u001b[39marguments),\n\u001b[1;32m    308\u001b[0m         \u001b[38;5;167;01mFutureWarning\u001b[39;00m,\n\u001b[1;32m    309\u001b[0m         stacklevel\u001b[38;5;241m=\u001b[39mstacklevel,\n\u001b[1;32m    310\u001b[0m     )\n\u001b[0;32m--> 311\u001b[0m \u001b[38;5;28;01mreturn\u001b[39;00m \u001b[43mfunc\u001b[49m\u001b[43m(\u001b[49m\u001b[38;5;241;43m*\u001b[39;49m\u001b[43margs\u001b[49m\u001b[43m,\u001b[49m\u001b[43m \u001b[49m\u001b[38;5;241;43m*\u001b[39;49m\u001b[38;5;241;43m*\u001b[39;49m\u001b[43mkwargs\u001b[49m\u001b[43m)\u001b[49m\n",
      "File \u001b[0;32m~/opt/anaconda3/lib/python3.9/site-packages/pandas/io/parsers/readers.py:680\u001b[0m, in \u001b[0;36mread_csv\u001b[0;34m(filepath_or_buffer, sep, delimiter, header, names, index_col, usecols, squeeze, prefix, mangle_dupe_cols, dtype, engine, converters, true_values, false_values, skipinitialspace, skiprows, skipfooter, nrows, na_values, keep_default_na, na_filter, verbose, skip_blank_lines, parse_dates, infer_datetime_format, keep_date_col, date_parser, dayfirst, cache_dates, iterator, chunksize, compression, thousands, decimal, lineterminator, quotechar, quoting, doublequote, escapechar, comment, encoding, encoding_errors, dialect, error_bad_lines, warn_bad_lines, on_bad_lines, delim_whitespace, low_memory, memory_map, float_precision, storage_options)\u001b[0m\n\u001b[1;32m    665\u001b[0m kwds_defaults \u001b[38;5;241m=\u001b[39m _refine_defaults_read(\n\u001b[1;32m    666\u001b[0m     dialect,\n\u001b[1;32m    667\u001b[0m     delimiter,\n\u001b[0;32m   (...)\u001b[0m\n\u001b[1;32m    676\u001b[0m     defaults\u001b[38;5;241m=\u001b[39m{\u001b[38;5;124m\"\u001b[39m\u001b[38;5;124mdelimiter\u001b[39m\u001b[38;5;124m\"\u001b[39m: \u001b[38;5;124m\"\u001b[39m\u001b[38;5;124m,\u001b[39m\u001b[38;5;124m\"\u001b[39m},\n\u001b[1;32m    677\u001b[0m )\n\u001b[1;32m    678\u001b[0m kwds\u001b[38;5;241m.\u001b[39mupdate(kwds_defaults)\n\u001b[0;32m--> 680\u001b[0m \u001b[38;5;28;01mreturn\u001b[39;00m \u001b[43m_read\u001b[49m\u001b[43m(\u001b[49m\u001b[43mfilepath_or_buffer\u001b[49m\u001b[43m,\u001b[49m\u001b[43m \u001b[49m\u001b[43mkwds\u001b[49m\u001b[43m)\u001b[49m\n",
      "File \u001b[0;32m~/opt/anaconda3/lib/python3.9/site-packages/pandas/io/parsers/readers.py:575\u001b[0m, in \u001b[0;36m_read\u001b[0;34m(filepath_or_buffer, kwds)\u001b[0m\n\u001b[1;32m    572\u001b[0m _validate_names(kwds\u001b[38;5;241m.\u001b[39mget(\u001b[38;5;124m\"\u001b[39m\u001b[38;5;124mnames\u001b[39m\u001b[38;5;124m\"\u001b[39m, \u001b[38;5;28;01mNone\u001b[39;00m))\n\u001b[1;32m    574\u001b[0m \u001b[38;5;66;03m# Create the parser.\u001b[39;00m\n\u001b[0;32m--> 575\u001b[0m parser \u001b[38;5;241m=\u001b[39m \u001b[43mTextFileReader\u001b[49m\u001b[43m(\u001b[49m\u001b[43mfilepath_or_buffer\u001b[49m\u001b[43m,\u001b[49m\u001b[43m \u001b[49m\u001b[38;5;241;43m*\u001b[39;49m\u001b[38;5;241;43m*\u001b[39;49m\u001b[43mkwds\u001b[49m\u001b[43m)\u001b[49m\n\u001b[1;32m    577\u001b[0m \u001b[38;5;28;01mif\u001b[39;00m chunksize \u001b[38;5;129;01mor\u001b[39;00m iterator:\n\u001b[1;32m    578\u001b[0m     \u001b[38;5;28;01mreturn\u001b[39;00m parser\n",
      "File \u001b[0;32m~/opt/anaconda3/lib/python3.9/site-packages/pandas/io/parsers/readers.py:933\u001b[0m, in \u001b[0;36mTextFileReader.__init__\u001b[0;34m(self, f, engine, **kwds)\u001b[0m\n\u001b[1;32m    930\u001b[0m     \u001b[38;5;28mself\u001b[39m\u001b[38;5;241m.\u001b[39moptions[\u001b[38;5;124m\"\u001b[39m\u001b[38;5;124mhas_index_names\u001b[39m\u001b[38;5;124m\"\u001b[39m] \u001b[38;5;241m=\u001b[39m kwds[\u001b[38;5;124m\"\u001b[39m\u001b[38;5;124mhas_index_names\u001b[39m\u001b[38;5;124m\"\u001b[39m]\n\u001b[1;32m    932\u001b[0m \u001b[38;5;28mself\u001b[39m\u001b[38;5;241m.\u001b[39mhandles: IOHandles \u001b[38;5;241m|\u001b[39m \u001b[38;5;28;01mNone\u001b[39;00m \u001b[38;5;241m=\u001b[39m \u001b[38;5;28;01mNone\u001b[39;00m\n\u001b[0;32m--> 933\u001b[0m \u001b[38;5;28mself\u001b[39m\u001b[38;5;241m.\u001b[39m_engine \u001b[38;5;241m=\u001b[39m \u001b[38;5;28;43mself\u001b[39;49m\u001b[38;5;241;43m.\u001b[39;49m\u001b[43m_make_engine\u001b[49m\u001b[43m(\u001b[49m\u001b[43mf\u001b[49m\u001b[43m,\u001b[49m\u001b[43m \u001b[49m\u001b[38;5;28;43mself\u001b[39;49m\u001b[38;5;241;43m.\u001b[39;49m\u001b[43mengine\u001b[49m\u001b[43m)\u001b[49m\n",
      "File \u001b[0;32m~/opt/anaconda3/lib/python3.9/site-packages/pandas/io/parsers/readers.py:1217\u001b[0m, in \u001b[0;36mTextFileReader._make_engine\u001b[0;34m(self, f, engine)\u001b[0m\n\u001b[1;32m   1213\u001b[0m     mode \u001b[38;5;241m=\u001b[39m \u001b[38;5;124m\"\u001b[39m\u001b[38;5;124mrb\u001b[39m\u001b[38;5;124m\"\u001b[39m\n\u001b[1;32m   1214\u001b[0m \u001b[38;5;66;03m# error: No overload variant of \"get_handle\" matches argument types\u001b[39;00m\n\u001b[1;32m   1215\u001b[0m \u001b[38;5;66;03m# \"Union[str, PathLike[str], ReadCsvBuffer[bytes], ReadCsvBuffer[str]]\"\u001b[39;00m\n\u001b[1;32m   1216\u001b[0m \u001b[38;5;66;03m# , \"str\", \"bool\", \"Any\", \"Any\", \"Any\", \"Any\", \"Any\"\u001b[39;00m\n\u001b[0;32m-> 1217\u001b[0m \u001b[38;5;28mself\u001b[39m\u001b[38;5;241m.\u001b[39mhandles \u001b[38;5;241m=\u001b[39m \u001b[43mget_handle\u001b[49m\u001b[43m(\u001b[49m\u001b[43m  \u001b[49m\u001b[38;5;66;43;03m# type: ignore[call-overload]\u001b[39;49;00m\n\u001b[1;32m   1218\u001b[0m \u001b[43m    \u001b[49m\u001b[43mf\u001b[49m\u001b[43m,\u001b[49m\n\u001b[1;32m   1219\u001b[0m \u001b[43m    \u001b[49m\u001b[43mmode\u001b[49m\u001b[43m,\u001b[49m\n\u001b[1;32m   1220\u001b[0m \u001b[43m    \u001b[49m\u001b[43mencoding\u001b[49m\u001b[38;5;241;43m=\u001b[39;49m\u001b[38;5;28;43mself\u001b[39;49m\u001b[38;5;241;43m.\u001b[39;49m\u001b[43moptions\u001b[49m\u001b[38;5;241;43m.\u001b[39;49m\u001b[43mget\u001b[49m\u001b[43m(\u001b[49m\u001b[38;5;124;43m\"\u001b[39;49m\u001b[38;5;124;43mencoding\u001b[39;49m\u001b[38;5;124;43m\"\u001b[39;49m\u001b[43m,\u001b[49m\u001b[43m \u001b[49m\u001b[38;5;28;43;01mNone\u001b[39;49;00m\u001b[43m)\u001b[49m\u001b[43m,\u001b[49m\n\u001b[1;32m   1221\u001b[0m \u001b[43m    \u001b[49m\u001b[43mcompression\u001b[49m\u001b[38;5;241;43m=\u001b[39;49m\u001b[38;5;28;43mself\u001b[39;49m\u001b[38;5;241;43m.\u001b[39;49m\u001b[43moptions\u001b[49m\u001b[38;5;241;43m.\u001b[39;49m\u001b[43mget\u001b[49m\u001b[43m(\u001b[49m\u001b[38;5;124;43m\"\u001b[39;49m\u001b[38;5;124;43mcompression\u001b[39;49m\u001b[38;5;124;43m\"\u001b[39;49m\u001b[43m,\u001b[49m\u001b[43m \u001b[49m\u001b[38;5;28;43;01mNone\u001b[39;49;00m\u001b[43m)\u001b[49m\u001b[43m,\u001b[49m\n\u001b[1;32m   1222\u001b[0m \u001b[43m    \u001b[49m\u001b[43mmemory_map\u001b[49m\u001b[38;5;241;43m=\u001b[39;49m\u001b[38;5;28;43mself\u001b[39;49m\u001b[38;5;241;43m.\u001b[39;49m\u001b[43moptions\u001b[49m\u001b[38;5;241;43m.\u001b[39;49m\u001b[43mget\u001b[49m\u001b[43m(\u001b[49m\u001b[38;5;124;43m\"\u001b[39;49m\u001b[38;5;124;43mmemory_map\u001b[39;49m\u001b[38;5;124;43m\"\u001b[39;49m\u001b[43m,\u001b[49m\u001b[43m \u001b[49m\u001b[38;5;28;43;01mFalse\u001b[39;49;00m\u001b[43m)\u001b[49m\u001b[43m,\u001b[49m\n\u001b[1;32m   1223\u001b[0m \u001b[43m    \u001b[49m\u001b[43mis_text\u001b[49m\u001b[38;5;241;43m=\u001b[39;49m\u001b[43mis_text\u001b[49m\u001b[43m,\u001b[49m\n\u001b[1;32m   1224\u001b[0m \u001b[43m    \u001b[49m\u001b[43merrors\u001b[49m\u001b[38;5;241;43m=\u001b[39;49m\u001b[38;5;28;43mself\u001b[39;49m\u001b[38;5;241;43m.\u001b[39;49m\u001b[43moptions\u001b[49m\u001b[38;5;241;43m.\u001b[39;49m\u001b[43mget\u001b[49m\u001b[43m(\u001b[49m\u001b[38;5;124;43m\"\u001b[39;49m\u001b[38;5;124;43mencoding_errors\u001b[39;49m\u001b[38;5;124;43m\"\u001b[39;49m\u001b[43m,\u001b[49m\u001b[43m \u001b[49m\u001b[38;5;124;43m\"\u001b[39;49m\u001b[38;5;124;43mstrict\u001b[39;49m\u001b[38;5;124;43m\"\u001b[39;49m\u001b[43m)\u001b[49m\u001b[43m,\u001b[49m\n\u001b[1;32m   1225\u001b[0m \u001b[43m    \u001b[49m\u001b[43mstorage_options\u001b[49m\u001b[38;5;241;43m=\u001b[39;49m\u001b[38;5;28;43mself\u001b[39;49m\u001b[38;5;241;43m.\u001b[39;49m\u001b[43moptions\u001b[49m\u001b[38;5;241;43m.\u001b[39;49m\u001b[43mget\u001b[49m\u001b[43m(\u001b[49m\u001b[38;5;124;43m\"\u001b[39;49m\u001b[38;5;124;43mstorage_options\u001b[39;49m\u001b[38;5;124;43m\"\u001b[39;49m\u001b[43m,\u001b[49m\u001b[43m \u001b[49m\u001b[38;5;28;43;01mNone\u001b[39;49;00m\u001b[43m)\u001b[49m\u001b[43m,\u001b[49m\n\u001b[1;32m   1226\u001b[0m \u001b[43m\u001b[49m\u001b[43m)\u001b[49m\n\u001b[1;32m   1227\u001b[0m \u001b[38;5;28;01massert\u001b[39;00m \u001b[38;5;28mself\u001b[39m\u001b[38;5;241m.\u001b[39mhandles \u001b[38;5;129;01mis\u001b[39;00m \u001b[38;5;129;01mnot\u001b[39;00m \u001b[38;5;28;01mNone\u001b[39;00m\n\u001b[1;32m   1228\u001b[0m f \u001b[38;5;241m=\u001b[39m \u001b[38;5;28mself\u001b[39m\u001b[38;5;241m.\u001b[39mhandles\u001b[38;5;241m.\u001b[39mhandle\n",
      "File \u001b[0;32m~/opt/anaconda3/lib/python3.9/site-packages/pandas/io/common.py:789\u001b[0m, in \u001b[0;36mget_handle\u001b[0;34m(path_or_buf, mode, encoding, compression, memory_map, is_text, errors, storage_options)\u001b[0m\n\u001b[1;32m    784\u001b[0m \u001b[38;5;28;01melif\u001b[39;00m \u001b[38;5;28misinstance\u001b[39m(handle, \u001b[38;5;28mstr\u001b[39m):\n\u001b[1;32m    785\u001b[0m     \u001b[38;5;66;03m# Check whether the filename is to be opened in binary mode.\u001b[39;00m\n\u001b[1;32m    786\u001b[0m     \u001b[38;5;66;03m# Binary mode does not support 'encoding' and 'newline'.\u001b[39;00m\n\u001b[1;32m    787\u001b[0m     \u001b[38;5;28;01mif\u001b[39;00m ioargs\u001b[38;5;241m.\u001b[39mencoding \u001b[38;5;129;01mand\u001b[39;00m \u001b[38;5;124m\"\u001b[39m\u001b[38;5;124mb\u001b[39m\u001b[38;5;124m\"\u001b[39m \u001b[38;5;129;01mnot\u001b[39;00m \u001b[38;5;129;01min\u001b[39;00m ioargs\u001b[38;5;241m.\u001b[39mmode:\n\u001b[1;32m    788\u001b[0m         \u001b[38;5;66;03m# Encoding\u001b[39;00m\n\u001b[0;32m--> 789\u001b[0m         handle \u001b[38;5;241m=\u001b[39m \u001b[38;5;28;43mopen\u001b[39;49m\u001b[43m(\u001b[49m\n\u001b[1;32m    790\u001b[0m \u001b[43m            \u001b[49m\u001b[43mhandle\u001b[49m\u001b[43m,\u001b[49m\n\u001b[1;32m    791\u001b[0m \u001b[43m            \u001b[49m\u001b[43mioargs\u001b[49m\u001b[38;5;241;43m.\u001b[39;49m\u001b[43mmode\u001b[49m\u001b[43m,\u001b[49m\n\u001b[1;32m    792\u001b[0m \u001b[43m            \u001b[49m\u001b[43mencoding\u001b[49m\u001b[38;5;241;43m=\u001b[39;49m\u001b[43mioargs\u001b[49m\u001b[38;5;241;43m.\u001b[39;49m\u001b[43mencoding\u001b[49m\u001b[43m,\u001b[49m\n\u001b[1;32m    793\u001b[0m \u001b[43m            \u001b[49m\u001b[43merrors\u001b[49m\u001b[38;5;241;43m=\u001b[39;49m\u001b[43merrors\u001b[49m\u001b[43m,\u001b[49m\n\u001b[1;32m    794\u001b[0m \u001b[43m            \u001b[49m\u001b[43mnewline\u001b[49m\u001b[38;5;241;43m=\u001b[39;49m\u001b[38;5;124;43m\"\u001b[39;49m\u001b[38;5;124;43m\"\u001b[39;49m\u001b[43m,\u001b[49m\n\u001b[1;32m    795\u001b[0m \u001b[43m        \u001b[49m\u001b[43m)\u001b[49m\n\u001b[1;32m    796\u001b[0m     \u001b[38;5;28;01melse\u001b[39;00m:\n\u001b[1;32m    797\u001b[0m         \u001b[38;5;66;03m# Binary mode\u001b[39;00m\n\u001b[1;32m    798\u001b[0m         handle \u001b[38;5;241m=\u001b[39m \u001b[38;5;28mopen\u001b[39m(handle, ioargs\u001b[38;5;241m.\u001b[39mmode)\n",
      "\u001b[0;31mFileNotFoundError\u001b[0m: [Errno 2] No such file or directory: 'musteriler.csv'"
     ]
    }
   ],
   "source": [
    "import numpy as np\n",
    "import pandas as pd\n",
    "import matplotlib.pyplot as plt\n",
    "\n",
    "veriler = pd.read_csv('musteriler.csv')"
   ]
  },
  {
   "cell_type": "code",
   "execution_count": null,
   "id": "d478f592-6fe8-4234-9caa-7e2ebb38d48f",
   "metadata": {},
   "outputs": [],
   "source": [
    "veriler.head()\n",
    "# hacim yapılan iş hacmidir"
   ]
  },
  {
   "cell_type": "code",
   "execution_count": null,
   "id": "67688e03-017f-49d2-b0f0-21429a61086a",
   "metadata": {},
   "outputs": [],
   "source": [
    "X = veriler.iloc[:,3:].values"
   ]
  },
  {
   "cell_type": "code",
   "execution_count": 15,
   "id": "f1676828-ba21-48eb-b369-572c3cda2b49",
   "metadata": {
    "tags": []
   },
   "outputs": [
    {
     "data": {
      "text/plain": [
       "array([[ 69900,   6325],\n",
       "       [ 79000,   5200],\n",
       "       [ 85500,   7825],\n",
       "       [ 17100,   8375],\n",
       "       [  5500,   5450],\n",
       "       [ 27200,   8550],\n",
       "       [ 20500,   4500],\n",
       "       [ 69000,   5050],\n",
       "       [ 13200,   8325],\n",
       "       [ 31800,   5975],\n",
       "       [ 59200,   5700],\n",
       "       [ 95800,   6475],\n",
       "       [ 46200,   3850],\n",
       "       [ 29800,   4100],\n",
       "       [ 83000,   8125],\n",
       "       [143500,   8650],\n",
       "       [ 91300,   5125],\n",
       "       [  9800,   3950],\n",
       "       [ 79500,   5325],\n",
       "       [ 66400,   5775],\n",
       "       [ 25900,   3400],\n",
       "       [     0,   7075],\n",
       "       [ 90900,   5725],\n",
       "       [ 51800,   4300],\n",
       "       [126800,   7500],\n",
       "       [ 40800,   5000],\n",
       "       [ 26400,   5325],\n",
       "       [ 76100,   5350],\n",
       "       [ 26500,   2600],\n",
       "       [ 37200,   6250],\n",
       "       [  4000,   3075],\n",
       "       [ 34500,   4875],\n",
       "       [ 47100,   5525],\n",
       "       [ 95600,   7225],\n",
       "       [ 35400,   5275],\n",
       "       [ 41100,   6050],\n",
       "       [ 46400,   3425],\n",
       "       [ 10400,   4600],\n",
       "       [ 50100,   4575],\n",
       "       [111300,   8525],\n",
       "       [102700,   8100],\n",
       "       [ 23700,   4725],\n",
       "       [ 84300,   7425],\n",
       "       [ 14800,   6200],\n",
       "       [  6400,   5875],\n",
       "       [ 35900,   4025],\n",
       "       [ 41600,   4150],\n",
       "       [ 61000,   5625],\n",
       "       [ 52800,   5300],\n",
       "       [118500,   6350],\n",
       "       [ 21500,   5800],\n",
       "       [ 69200,   6325],\n",
       "       [105600,   8800],\n",
       "       [139000,   8400],\n",
       "       [ 76300,   5650],\n",
       "       [ 87600,   6800],\n",
       "       [ 21800,   4725],\n",
       "       [ 84100,   5575],\n",
       "       [ 35700,   3675],\n",
       "       [ 75400,   5775],\n",
       "       [125000,   7550],\n",
       "       [ 97100,   6525],\n",
       "       [ 45900,   4525],\n",
       "       [ 26600,   7925],\n",
       "       [ 54400,   8800],\n",
       "       [ 13600,   4100],\n",
       "       [ 58000,   5175],\n",
       "       [ 83700,   6350],\n",
       "       [ 32100,   6575],\n",
       "       [ 19000,   4375],\n",
       "       [ 85500,   5875],\n",
       "       [ 73600,   9250],\n",
       "       [ 99000,   6650],\n",
       "       [ 65700,   7775],\n",
       "       [ 23200,   3575],\n",
       "       [  3700,   7650],\n",
       "       [107200,   7825],\n",
       "       [ 73800,   8525],\n",
       "       [ 38400,   5700],\n",
       "       [ 26500,   8575],\n",
       "       [ 14400,   3975],\n",
       "       [ 16600,   4075],\n",
       "       [ 37900,   4925],\n",
       "       [ 51900,   4175],\n",
       "       [135500,   7075],\n",
       "       [ 70600,   7450],\n",
       "       [ 78600,   8575],\n",
       "       [ 34500,   3825],\n",
       "       [ 28500,   4850],\n",
       "       [ 27200,   6600],\n",
       "       [ 80400,   8350],\n",
       "       [ 15600,   7950],\n",
       "       [133700,   7725],\n",
       "       [ 55200,   6800],\n",
       "       [  6600,   3425],\n",
       "       [ 55700,   7725],\n",
       "       [ 29400,   4400],\n",
       "       [ 86100,   9175],\n",
       "       [  2000,   5250],\n",
       "       [  2900,   2650],\n",
       "       [ 38400,   6950],\n",
       "       [135600,   9575],\n",
       "       [ 78100,   7625],\n",
       "       [ 13600,   2600],\n",
       "       [ 14400,   7775],\n",
       "       [ 64200,   9125],\n",
       "       [ 83400,   8675],\n",
       "       [ 33600,   4500],\n",
       "       [ 61900,   5925],\n",
       "       [128500,   6800],\n",
       "       [116200,   9250],\n",
       "       [ 93000,   5750],\n",
       "       [ 66800,  10075],\n",
       "       [ 69400,   5375],\n",
       "       [ 98100,   5725],\n",
       "       [ 42000,   3250],\n",
       "       [  6600,   8475],\n",
       "       [ 97900,   7925],\n",
       "       [ 34700,   2675],\n",
       "       [ 56800,   9800],\n",
       "       [ 26400,   5300],\n",
       "       [ 53800,   4550],\n",
       "       [ 93600,   6325],\n",
       "       [ 76200,   5900],\n",
       "       [ 68000,   5500],\n",
       "       [ 45400,   4550],\n",
       "       [ 24900,   2725],\n",
       "       [ 17100,   3425],\n",
       "       [119700,   8225],\n",
       "       [     0,   6150],\n",
       "       [ 24300,   3225],\n",
       "       [ 48600,   6425],\n",
       "       [ 51600,   3725],\n",
       "       [ 59200,   3500],\n",
       "       [ 53500,   4375],\n",
       "       [     0,   6325],\n",
       "       [ 44800,   5200],\n",
       "       [ 49200,   4475],\n",
       "       [ 85900,   4875],\n",
       "       [ 52500,   6375],\n",
       "       [ 94000,   6525],\n",
       "       [  4400,   3100],\n",
       "       [ 38700,   8325],\n",
       "       [ 59400,   5850],\n",
       "       [ 75000,   8250],\n",
       "       [ 45800,   5675],\n",
       "       [ 31200,   5600],\n",
       "       [ 35300,   4075],\n",
       "       [ 38000,   3475],\n",
       "       [ 17100,   6275],\n",
       "       [ 32400,   4025],\n",
       "       [ 40400,   4450],\n",
       "       [ 70400,   6400],\n",
       "       [  2500,   4575],\n",
       "       [ 49200,   7025],\n",
       "       [115500,   6450],\n",
       "       [ 18800,   2950],\n",
       "       [ 41800,   4350],\n",
       "       [105700,   6325],\n",
       "       [ 17500,   5550],\n",
       "       [ 46400,   4175],\n",
       "       [ 31200,   3800],\n",
       "       [ 30500,   8950],\n",
       "       [ 37100,   4525],\n",
       "       [ 20700,   4050],\n",
       "       [ 37400,   4775],\n",
       "       [ 53600,   4575],\n",
       "       [ 95100,   7425],\n",
       "       [ 12400,   8075],\n",
       "       [ 28500,   6525],\n",
       "       [ 87500,   4950],\n",
       "       [ 29500,   6500],\n",
       "       [ 17300,   6325],\n",
       "       [ 39000,   6875],\n",
       "       [ 63500,   5175],\n",
       "       [ 27700,   8925],\n",
       "       [ 23300,   7825],\n",
       "       [ 53600,   5350],\n",
       "       [111800,   8075],\n",
       "       [ 55400,   5675],\n",
       "       [ 44700,   4750],\n",
       "       [ 72900,   6200],\n",
       "       [ 59700,   6975],\n",
       "       [124800,   9525],\n",
       "       [100700,   6675],\n",
       "       [136200,   9275],\n",
       "       [  4400,   4750],\n",
       "       [  3000,   7975],\n",
       "       [ 33300,   6225],\n",
       "       [ 20600,   2800],\n",
       "       [ 44700,   5450],\n",
       "       [ 10000,   2875],\n",
       "       [ 39200,   5975],\n",
       "       [ 75600,   6175],\n",
       "       [ 13200,   5325],\n",
       "       [ 96600,   7900],\n",
       "       [ 83700,   7675],\n",
       "       [ 34000,   4000],\n",
       "       [ 42000,   5500],\n",
       "       [ 47600,   4150]])"
      ]
     },
     "execution_count": 15,
     "metadata": {},
     "output_type": "execute_result"
    }
   ],
   "source": [
    "X"
   ]
  },
  {
   "cell_type": "code",
   "execution_count": 22,
   "id": "08b259ca-aef8-4e75-9b83-ced0b6b9b911",
   "metadata": {},
   "outputs": [
    {
     "data": {
      "text/plain": [
       "37348094671.27113"
      ]
     },
     "execution_count": 22,
     "metadata": {},
     "output_type": "execute_result"
    }
   ],
   "source": [
    "from sklearn.cluster import KMeans\n",
    "\n",
    "kmeans = KMeans ( n_clusters = 3, init = 'k-means++')\n",
    "kmeans.fit(X)\n",
    "kmeans.inertia_"
   ]
  },
  {
   "cell_type": "code",
   "execution_count": 17,
   "id": "8fb689b0-6c84-4d38-b890-00449da8ea28",
   "metadata": {},
   "outputs": [
    {
     "name": "stdout",
     "output_type": "stream",
     "text": [
      "[[ 58643.47826087   5844.92753623]\n",
      " [104386.95652174   7289.13043478]\n",
      " [ 22069.41176471   5320.88235294]]\n"
     ]
    }
   ],
   "source": [
    "print(kmeans.cluster_centers_)"
   ]
  },
  {
   "cell_type": "code",
   "execution_count": 26,
   "id": "cb89440c-ea00-4b7b-ac6c-855d4e501e4b",
   "metadata": {},
   "outputs": [
    {
     "data": {
      "text/plain": [
       "3330255811.549154"
      ]
     },
     "execution_count": 26,
     "metadata": {},
     "output_type": "execute_result"
    }
   ],
   "source": [
    "kmeans.inertia_\n",
    "# aslında bu WSS değerleridir"
   ]
  },
  {
   "cell_type": "code",
   "execution_count": 24,
   "id": "2f986eab-e27f-4d6b-b73d-78625e2a607f",
   "metadata": {},
   "outputs": [
    {
     "name": "stdout",
     "output_type": "stream",
     "text": [
      "242389902746.875\n",
      "69083288306.74913\n",
      "37362865661.973114\n",
      "19665039712.795002\n",
      "12911353632.710129\n",
      "8631933632.939522\n",
      "6759928141.384079\n",
      "5301517432.980297\n",
      "4172822197.4469495\n",
      "3330255811.549154\n"
     ]
    },
    {
     "data": {
      "text/plain": [
       "[<matplotlib.lines.Line2D at 0x7f8db28ff9a0>]"
      ]
     },
     "execution_count": 24,
     "metadata": {},
     "output_type": "execute_result"
    },
    {
     "data": {
      "image/png": "[encoded data removed]",
      "text/plain": [
       "<Figure size 432x288 with 1 Axes>"
      ]
     },
     "metadata": {
      "needs_background": "light"
     },
     "output_type": "display_data"
    }
   ],
   "source": [
    "sonuclar = []\n",
    "for i in range(1,11):\n",
    "    kmeans = KMeans (n_clusters = i, init='k-means++', random_state= 123)\n",
    "    kmeans.fit(X)\n",
    "    sonuclar.append(kmeans.inertia_)\n",
    "    print(kmeans.inertia_)\n",
    "\n",
    "plt.plot(range(1,11),sonuclar)"
   ]
  },
  {
   "cell_type": "code",
   "execution_count": null,
   "id": "f973f5c1-c871-4668-987b-fd3596346b1b",
   "metadata": {},
   "outputs": [],
   "source": []
  },
  {
   "cell_type": "code",
   "execution_count": null,
   "id": "fc23773c-abde-4136-b1c0-a980637940c9",
   "metadata": {},
   "outputs": [],
   "source": []
  }
 ],
 "metadata": {
  "kernelspec": {
   "display_name": "Python 3 (ipykernel)",
   "language": "python",
   "name": "python3"
  },
  "language_info": {
   "codemirror_mode": {
    "name": "ipython",
    "version": 3
   },
   "file_extension": ".py",
   "mimetype": "text/x-python",
   "name": "python",
   "nbconvert_exporter": "python",
   "pygments_lexer": "ipython3",
   "version": "3.9.12"
  }
 },
 "nbformat": 4,
 "nbformat_minor": 5
}
