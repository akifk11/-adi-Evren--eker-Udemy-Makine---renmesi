{
 "cells": [
  {
   "cell_type": "code",
   "execution_count": 1,
   "id": "febd0e23-7f55-425d-aaaf-a9d262b8a8cb",
   "metadata": {},
   "outputs": [],
   "source": [
    "# k-means(k ortalama)"
   ]
  },
  {
   "cell_type": "code",
   "execution_count": 2,
   "id": "5d756f23-7657-45b0-8947-c0d1440c3b68",
   "metadata": {},
   "outputs": [],
   "source": [
    "# unsupervised (gözetimsiz) bir öğrenmedir"
   ]
  },
  {
   "cell_type": "code",
   "execution_count": 3,
   "id": "ee73e574-68fc-4903-9bc7-45eff51e0c1c",
   "metadata": {},
   "outputs": [],
   "source": [
    "import numpy as np\n",
    "import pandas as pd\n",
    "import matplotlib.pyplot as plt\n",
    "\n",
    "veriler = pd.read_csv('musteriler.csv')"
   ]
  },
  {
   "cell_type": "code",
   "execution_count": 4,
   "id": "d478f592-6fe8-4234-9caa-7e2ebb38d48f",
   "metadata": {},
   "outputs": [
    {
     "data": {
      "text/html": [
       "<div>\n",
       "<style scoped>\n",
       "    .dataframe tbody tr th:only-of-type {\n",
       "        vertical-align: middle;\n",
       "    }\n",
       "\n",
       "    .dataframe tbody tr th {\n",
       "        vertical-align: top;\n",
       "    }\n",
       "\n",
       "    .dataframe thead th {\n",
       "        text-align: right;\n",
       "    }\n",
       "</style>\n",
       "<table border=\"1\" class=\"dataframe\">\n",
       "  <thead>\n",
       "    <tr style=\"text-align: right;\">\n",
       "      <th></th>\n",
       "      <th>No</th>\n",
       "      <th>Cinsiyet</th>\n",
       "      <th>Yas</th>\n",
       "      <th>Hacim</th>\n",
       "      <th>Maas</th>\n",
       "    </tr>\n",
       "  </thead>\n",
       "  <tbody>\n",
       "    <tr>\n",
       "      <th>0</th>\n",
       "      <td>1</td>\n",
       "      <td>K</td>\n",
       "      <td>60</td>\n",
       "      <td>69900</td>\n",
       "      <td>6325</td>\n",
       "    </tr>\n",
       "    <tr>\n",
       "      <th>1</th>\n",
       "      <td>2</td>\n",
       "      <td>K</td>\n",
       "      <td>30</td>\n",
       "      <td>79000</td>\n",
       "      <td>5200</td>\n",
       "    </tr>\n",
       "    <tr>\n",
       "      <th>2</th>\n",
       "      <td>3</td>\n",
       "      <td>E</td>\n",
       "      <td>52</td>\n",
       "      <td>85500</td>\n",
       "      <td>7825</td>\n",
       "    </tr>\n",
       "    <tr>\n",
       "      <th>3</th>\n",
       "      <td>4</td>\n",
       "      <td>E</td>\n",
       "      <td>57</td>\n",
       "      <td>17100</td>\n",
       "      <td>8375</td>\n",
       "    </tr>\n",
       "    <tr>\n",
       "      <th>4</th>\n",
       "      <td>5</td>\n",
       "      <td>E</td>\n",
       "      <td>55</td>\n",
       "      <td>5500</td>\n",
       "      <td>5450</td>\n",
       "    </tr>\n",
       "  </tbody>\n",
       "</table>\n",
       "</div>"
      ],
      "text/plain": [
       "   No Cinsiyet  Yas  Hacim  Maas\n",
       "0   1        K   60  69900  6325\n",
       "1   2        K   30  79000  5200\n",
       "2   3        E   52  85500  7825\n",
       "3   4        E   57  17100  8375\n",
       "4   5        E   55   5500  5450"
      ]
     },
     "execution_count": 4,
     "metadata": {},
     "output_type": "execute_result"
    }
   ],
   "source": [
    "veriler.head()"
   ]
  },
  {
   "cell_type": "code",
   "execution_count": 5,
   "id": "67688e03-017f-49d2-b0f0-21429a61086a",
   "metadata": {},
   "outputs": [],
   "source": [
    "X = veriler.iloc[:,3:].values"
   ]
  },
  {
   "cell_type": "code",
   "execution_count": 6,
   "id": "f1676828-ba21-48eb-b369-572c3cda2b49",
   "metadata": {
    "collapsed": true,
    "jupyter": {
     "outputs_hidden": true
    },
    "tags": []
   },
   "outputs": [
    {
     "data": {
      "text/plain": [
       "array([[ 69900,   6325],\n",
       "       [ 79000,   5200],\n",
       "       [ 85500,   7825],\n",
       "       [ 17100,   8375],\n",
       "       [  5500,   5450],\n",
       "       [ 27200,   8550],\n",
       "       [ 20500,   4500],\n",
       "       [ 69000,   5050],\n",
       "       [ 13200,   8325],\n",
       "       [ 31800,   5975],\n",
       "       [ 59200,   5700],\n",
       "       [ 95800,   6475],\n",
       "       [ 46200,   3850],\n",
       "       [ 29800,   4100],\n",
       "       [ 83000,   8125],\n",
       "       [143500,   8650],\n",
       "       [ 91300,   5125],\n",
       "       [  9800,   3950],\n",
       "       [ 79500,   5325],\n",
       "       [ 66400,   5775],\n",
       "       [ 25900,   3400],\n",
       "       [     0,   7075],\n",
       "       [ 90900,   5725],\n",
       "       [ 51800,   4300],\n",
       "       [126800,   7500],\n",
       "       [ 40800,   5000],\n",
       "       [ 26400,   5325],\n",
       "       [ 76100,   5350],\n",
       "       [ 26500,   2600],\n",
       "       [ 37200,   6250],\n",
       "       [  4000,   3075],\n",
       "       [ 34500,   4875],\n",
       "       [ 47100,   5525],\n",
       "       [ 95600,   7225],\n",
       "       [ 35400,   5275],\n",
       "       [ 41100,   6050],\n",
       "       [ 46400,   3425],\n",
       "       [ 10400,   4600],\n",
       "       [ 50100,   4575],\n",
       "       [111300,   8525],\n",
       "       [102700,   8100],\n",
       "       [ 23700,   4725],\n",
       "       [ 84300,   7425],\n",
       "       [ 14800,   6200],\n",
       "       [  6400,   5875],\n",
       "       [ 35900,   4025],\n",
       "       [ 41600,   4150],\n",
       "       [ 61000,   5625],\n",
       "       [ 52800,   5300],\n",
       "       [118500,   6350],\n",
       "       [ 21500,   5800],\n",
       "       [ 69200,   6325],\n",
       "       [105600,   8800],\n",
       "       [139000,   8400],\n",
       "       [ 76300,   5650],\n",
       "       [ 87600,   6800],\n",
       "       [ 21800,   4725],\n",
       "       [ 84100,   5575],\n",
       "       [ 35700,   3675],\n",
       "       [ 75400,   5775],\n",
       "       [125000,   7550],\n",
       "       [ 97100,   6525],\n",
       "       [ 45900,   4525],\n",
       "       [ 26600,   7925],\n",
       "       [ 54400,   8800],\n",
       "       [ 13600,   4100],\n",
       "       [ 58000,   5175],\n",
       "       [ 83700,   6350],\n",
       "       [ 32100,   6575],\n",
       "       [ 19000,   4375],\n",
       "       [ 85500,   5875],\n",
       "       [ 73600,   9250],\n",
       "       [ 99000,   6650],\n",
       "       [ 65700,   7775],\n",
       "       [ 23200,   3575],\n",
       "       [  3700,   7650],\n",
       "       [107200,   7825],\n",
       "       [ 73800,   8525],\n",
       "       [ 38400,   5700],\n",
       "       [ 26500,   8575],\n",
       "       [ 14400,   3975],\n",
       "       [ 16600,   4075],\n",
       "       [ 37900,   4925],\n",
       "       [ 51900,   4175],\n",
       "       [135500,   7075],\n",
       "       [ 70600,   7450],\n",
       "       [ 78600,   8575],\n",
       "       [ 34500,   3825],\n",
       "       [ 28500,   4850],\n",
       "       [ 27200,   6600],\n",
       "       [ 80400,   8350],\n",
       "       [ 15600,   7950],\n",
       "       [133700,   7725],\n",
       "       [ 55200,   6800],\n",
       "       [  6600,   3425],\n",
       "       [ 55700,   7725],\n",
       "       [ 29400,   4400],\n",
       "       [ 86100,   9175],\n",
       "       [  2000,   5250],\n",
       "       [  2900,   2650],\n",
       "       [ 38400,   6950],\n",
       "       [135600,   9575],\n",
       "       [ 78100,   7625],\n",
       "       [ 13600,   2600],\n",
       "       [ 14400,   7775],\n",
       "       [ 64200,   9125],\n",
       "       [ 83400,   8675],\n",
       "       [ 33600,   4500],\n",
       "       [ 61900,   5925],\n",
       "       [128500,   6800],\n",
       "       [116200,   9250],\n",
       "       [ 93000,   5750],\n",
       "       [ 66800,  10075],\n",
       "       [ 69400,   5375],\n",
       "       [ 98100,   5725],\n",
       "       [ 42000,   3250],\n",
       "       [  6600,   8475],\n",
       "       [ 97900,   7925],\n",
       "       [ 34700,   2675],\n",
       "       [ 56800,   9800],\n",
       "       [ 26400,   5300],\n",
       "       [ 53800,   4550],\n",
       "       [ 93600,   6325],\n",
       "       [ 76200,   5900],\n",
       "       [ 68000,   5500],\n",
       "       [ 45400,   4550],\n",
       "       [ 24900,   2725],\n",
       "       [ 17100,   3425],\n",
       "       [119700,   8225],\n",
       "       [     0,   6150],\n",
       "       [ 24300,   3225],\n",
       "       [ 48600,   6425],\n",
       "       [ 51600,   3725],\n",
       "       [ 59200,   3500],\n",
       "       [ 53500,   4375],\n",
       "       [     0,   6325],\n",
       "       [ 44800,   5200],\n",
       "       [ 49200,   4475],\n",
       "       [ 85900,   4875],\n",
       "       [ 52500,   6375],\n",
       "       [ 94000,   6525],\n",
       "       [  4400,   3100],\n",
       "       [ 38700,   8325],\n",
       "       [ 59400,   5850],\n",
       "       [ 75000,   8250],\n",
       "       [ 45800,   5675],\n",
       "       [ 31200,   5600],\n",
       "       [ 35300,   4075],\n",
       "       [ 38000,   3475],\n",
       "       [ 17100,   6275],\n",
       "       [ 32400,   4025],\n",
       "       [ 40400,   4450],\n",
       "       [ 70400,   6400],\n",
       "       [  2500,   4575],\n",
       "       [ 49200,   7025],\n",
       "       [115500,   6450],\n",
       "       [ 18800,   2950],\n",
       "       [ 41800,   4350],\n",
       "       [105700,   6325],\n",
       "       [ 17500,   5550],\n",
       "       [ 46400,   4175],\n",
       "       [ 31200,   3800],\n",
       "       [ 30500,   8950],\n",
       "       [ 37100,   4525],\n",
       "       [ 20700,   4050],\n",
       "       [ 37400,   4775],\n",
       "       [ 53600,   4575],\n",
       "       [ 95100,   7425],\n",
       "       [ 12400,   8075],\n",
       "       [ 28500,   6525],\n",
       "       [ 87500,   4950],\n",
       "       [ 29500,   6500],\n",
       "       [ 17300,   6325],\n",
       "       [ 39000,   6875],\n",
       "       [ 63500,   5175],\n",
       "       [ 27700,   8925],\n",
       "       [ 23300,   7825],\n",
       "       [ 53600,   5350],\n",
       "       [111800,   8075],\n",
       "       [ 55400,   5675],\n",
       "       [ 44700,   4750],\n",
       "       [ 72900,   6200],\n",
       "       [ 59700,   6975],\n",
       "       [124800,   9525],\n",
       "       [100700,   6675],\n",
       "       [136200,   9275],\n",
       "       [  4400,   4750],\n",
       "       [  3000,   7975],\n",
       "       [ 33300,   6225],\n",
       "       [ 20600,   2800],\n",
       "       [ 44700,   5450],\n",
       "       [ 10000,   2875],\n",
       "       [ 39200,   5975],\n",
       "       [ 75600,   6175],\n",
       "       [ 13200,   5325],\n",
       "       [ 96600,   7900],\n",
       "       [ 83700,   7675],\n",
       "       [ 34000,   4000],\n",
       "       [ 42000,   5500],\n",
       "       [ 47600,   4150]])"
      ]
     },
     "execution_count": 6,
     "metadata": {},
     "output_type": "execute_result"
    }
   ],
   "source": [
    "X"
   ]
  },
  {
   "cell_type": "code",
   "execution_count": 7,
   "id": "08b259ca-aef8-4e75-9b83-ced0b6b9b911",
   "metadata": {},
   "outputs": [
    {
     "data": {
      "text/plain": [
       "KMeans(n_clusters=3)"
      ]
     },
     "execution_count": 7,
     "metadata": {},
     "output_type": "execute_result"
    }
   ],
   "source": [
    "from sklearn.cluster import KMeans\n",
    "\n",
    "kmeans = KMeans ( n_clusters = 3, init = 'k-means++')\n",
    "kmeans.fit(X)\n"
   ]
  },
  {
   "cell_type": "code",
   "execution_count": 8,
   "id": "8fb689b0-6c84-4d38-b890-00449da8ea28",
   "metadata": {},
   "outputs": [
    {
     "name": "stdout",
     "output_type": "stream",
     "text": [
      "[[ 63915.27777778   6140.625     ]\n",
      " [ 23539.13043478   5272.01086957]\n",
      " [109905.55555556   7325.69444444]]\n"
     ]
    }
   ],
   "source": [
    "print(kmeans.cluster_centers_)"
   ]
  },
  {
   "cell_type": "code",
   "execution_count": 9,
   "id": "2f986eab-e27f-4d6b-b73d-78625e2a607f",
   "metadata": {},
   "outputs": [
    {
     "data": {
      "text/plain": [
       "[<matplotlib.lines.Line2D at 0x7f8da024eca0>]"
      ]
     },
     "execution_count": 9,
     "metadata": {},
     "output_type": "execute_result"
    },
    {
     "data": {
      "image/png": "[encoded data removed]",
      "text/plain": [
       "<Figure size 432x288 with 1 Axes>"
      ]
     },
     "metadata": {
      "needs_background": "light"
     },
     "output_type": "display_data"
    }
   ],
   "source": [
    "sonuclar = []\n",
    "for i in range(1,11):\n",
    "    kmeans = KMeans (n_clusters = i, init='k-means++', random_state= 123)\n",
    "    kmeans.fit(X)\n",
    "    sonuclar.append(kmeans.inertia_)\n",
    "\n",
    "plt.plot(range(1,11),sonuclar)"
   ]
  },
  {
   "cell_type": "code",
   "execution_count": null,
   "id": "f973f5c1-c871-4668-987b-fd3596346b1b",
   "metadata": {},
   "outputs": [],
   "source": [
    "s"
   ]
  }
 ],
 "metadata": {
  "kernelspec": {
   "display_name": "Python 3 (ipykernel)",
   "language": "python",
   "name": "python3"
  },
  "language_info": {
   "codemirror_mode": {
    "name": "ipython",
    "version": 3
   },
   "file_extension": ".py",
   "mimetype": "text/x-python",
   "name": "python",
   "nbconvert_exporter": "python",
   "pygments_lexer": "ipython3",
   "version": "3.9.12"
  }
 },
 "nbformat": 4,
 "nbformat_minor": 5
}
