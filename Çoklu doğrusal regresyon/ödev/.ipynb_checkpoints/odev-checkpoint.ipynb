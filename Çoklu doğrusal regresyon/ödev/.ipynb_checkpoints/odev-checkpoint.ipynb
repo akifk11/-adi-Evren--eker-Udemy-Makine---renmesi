{
 "cells": [
  {
   "cell_type": "code",
   "execution_count": 9,
   "id": "d740d990-ad43-4988-955f-674133eb6641",
   "metadata": {},
   "outputs": [],
   "source": [
    "import numpy as np\n",
    "import matplotlib.pyplot as plt\n",
    "import pandas as pd"
   ]
  },
  {
   "cell_type": "code",
   "execution_count": 10,
   "id": "f66d3223-0924-482c-88ad-54cc4514b1b6",
   "metadata": {},
   "outputs": [],
   "source": [
    "veriler = pd.read_csv('odev_tenis.csv')"
   ]
  },
  {
   "cell_type": "code",
   "execution_count": 11,
   "id": "a50c6e2c-5da5-41cb-a9c5-2cecb8fe4848",
   "metadata": {},
   "outputs": [
    {
     "data": {
      "text/html": [
       "<div>\n",
       "<style scoped>\n",
       "    .dataframe tbody tr th:only-of-type {\n",
       "        vertical-align: middle;\n",
       "    }\n",
       "\n",
       "    .dataframe tbody tr th {\n",
       "        vertical-align: top;\n",
       "    }\n",
       "\n",
       "    .dataframe thead th {\n",
       "        text-align: right;\n",
       "    }\n",
       "</style>\n",
       "<table border=\"1\" class=\"dataframe\">\n",
       "  <thead>\n",
       "    <tr style=\"text-align: right;\">\n",
       "      <th></th>\n",
       "      <th>outlook</th>\n",
       "      <th>temperature</th>\n",
       "      <th>humidity</th>\n",
       "      <th>windy</th>\n",
       "      <th>play</th>\n",
       "    </tr>\n",
       "  </thead>\n",
       "  <tbody>\n",
       "    <tr>\n",
       "      <th>0</th>\n",
       "      <td>sunny</td>\n",
       "      <td>85</td>\n",
       "      <td>85</td>\n",
       "      <td>False</td>\n",
       "      <td>no</td>\n",
       "    </tr>\n",
       "    <tr>\n",
       "      <th>1</th>\n",
       "      <td>sunny</td>\n",
       "      <td>80</td>\n",
       "      <td>90</td>\n",
       "      <td>True</td>\n",
       "      <td>no</td>\n",
       "    </tr>\n",
       "    <tr>\n",
       "      <th>2</th>\n",
       "      <td>overcast</td>\n",
       "      <td>83</td>\n",
       "      <td>86</td>\n",
       "      <td>False</td>\n",
       "      <td>yes</td>\n",
       "    </tr>\n",
       "    <tr>\n",
       "      <th>3</th>\n",
       "      <td>rainy</td>\n",
       "      <td>70</td>\n",
       "      <td>96</td>\n",
       "      <td>False</td>\n",
       "      <td>yes</td>\n",
       "    </tr>\n",
       "    <tr>\n",
       "      <th>4</th>\n",
       "      <td>rainy</td>\n",
       "      <td>68</td>\n",
       "      <td>80</td>\n",
       "      <td>False</td>\n",
       "      <td>yes</td>\n",
       "    </tr>\n",
       "  </tbody>\n",
       "</table>\n",
       "</div>"
      ],
      "text/plain": [
       "    outlook  temperature  humidity  windy play\n",
       "0     sunny           85        85  False   no\n",
       "1     sunny           80        90   True   no\n",
       "2  overcast           83        86  False  yes\n",
       "3     rainy           70        96  False  yes\n",
       "4     rainy           68        80  False  yes"
      ]
     },
     "execution_count": 11,
     "metadata": {},
     "output_type": "execute_result"
    }
   ],
   "source": [
    "veriler.head()"
   ]
  },
  {
   "cell_type": "code",
   "execution_count": 12,
   "id": "bf350827-1453-4658-b612-a206882752ea",
   "metadata": {},
   "outputs": [],
   "source": [
    "# outlook kısmını sayısal değere dönüştürmemiz gerekiyor\n",
    "# onehot encoding yapacağız"
   ]
  },
  {
   "cell_type": "code",
   "execution_count": 13,
   "id": "ffd26c87-1f1b-4071-88a3-b51103e986c1",
   "metadata": {},
   "outputs": [],
   "source": [
    "# windy,play kısmınıda sayısal değere dönüştürmemiz gerekiyor\n",
    "# label encoding yapacağız bu kısımda da"
   ]
  },
  {
   "cell_type": "code",
   "execution_count": 14,
   "id": "c95791c9-dd1d-428e-a095-01f2900585a2",
   "metadata": {},
   "outputs": [
    {
     "data": {
      "text/plain": [
       "array([['no'],\n",
       "       ['no'],\n",
       "       ['yes'],\n",
       "       ['yes'],\n",
       "       ['yes'],\n",
       "       ['no'],\n",
       "       ['yes'],\n",
       "       ['no'],\n",
       "       ['yes'],\n",
       "       ['yes'],\n",
       "       ['yes'],\n",
       "       ['yes'],\n",
       "       ['yes'],\n",
       "       ['no']], dtype=object)"
      ]
     },
     "execution_count": 14,
     "metadata": {},
     "output_type": "execute_result"
    }
   ],
   "source": [
    "play=veriler.iloc[:,-1:].values\n",
    "play"
   ]
  },
  {
   "cell_type": "code",
   "execution_count": 15,
   "id": "0cf7c078-66c3-44a9-a218-ecfcdc64b4a0",
   "metadata": {},
   "outputs": [
    {
     "data": {
      "text/plain": [
       "array([[False],\n",
       "       [ True],\n",
       "       [False],\n",
       "       [False],\n",
       "       [False],\n",
       "       [ True],\n",
       "       [ True],\n",
       "       [False],\n",
       "       [False],\n",
       "       [False],\n",
       "       [ True],\n",
       "       [ True],\n",
       "       [False],\n",
       "       [ True]])"
      ]
     },
     "execution_count": 15,
     "metadata": {},
     "output_type": "execute_result"
    }
   ],
   "source": [
    "windy=veriler.iloc[:,-2:-1].values\n",
    "windy"
   ]
  },
  {
   "cell_type": "code",
   "execution_count": 20,
   "id": "374ca89d-d85d-4acb-ae91-7e5597897b75",
   "metadata": {},
   "outputs": [
    {
     "data": {
      "text/plain": [
       "array([[False],\n",
       "       [ True],\n",
       "       [False],\n",
       "       [False],\n",
       "       [False],\n",
       "       [ True],\n",
       "       [ True],\n",
       "       [False],\n",
       "       [False],\n",
       "       [False],\n",
       "       [ True],\n",
       "       [ True],\n",
       "       [False],\n",
       "       [ True]])"
      ]
     },
     "execution_count": 20,
     "metadata": {},
     "output_type": "execute_result"
    }
   ],
   "source": [
    "from sklearn.preprocessing import LabelEncoder\n",
    "le2=LabelEncoder()\n",
    "windy[:,0]=le2.fit_transform(windy[:,0])\n",
    "windy"
   ]
  },
  {
   "cell_type": "code",
   "execution_count": 17,
   "id": "4e1bf0b6-6450-4e1e-b41a-e15497449402",
   "metadata": {},
   "outputs": [],
   "source": [
    "from sklearn.preprocessing import LabelEncoder\n",
    "le=LabelEncoder()"
   ]
  },
  {
   "cell_type": "code",
   "execution_count": 18,
   "id": "aeec829c-ae43-4885-acd6-776fe4a8225d",
   "metadata": {},
   "outputs": [],
   "source": [
    "play[:,0]=le.fit_transform(play[:,0])"
   ]
  },
  {
   "cell_type": "code",
   "execution_count": 19,
   "id": "39da6d0d-9865-4d2e-b056-11086ecdb2ab",
   "metadata": {},
   "outputs": [
    {
     "data": {
      "text/plain": [
       "array([[0],\n",
       "       [0],\n",
       "       [1],\n",
       "       [1],\n",
       "       [1],\n",
       "       [0],\n",
       "       [1],\n",
       "       [0],\n",
       "       [1],\n",
       "       [1],\n",
       "       [1],\n",
       "       [1],\n",
       "       [1],\n",
       "       [0]], dtype=object)"
      ]
     },
     "execution_count": 19,
     "metadata": {},
     "output_type": "execute_result"
    }
   ],
   "source": [
    "play"
   ]
  },
  {
   "cell_type": "code",
   "execution_count": null,
   "id": "871eae61-7aba-4393-b26d-f04a1c264d7d",
   "metadata": {},
   "outputs": [],
   "source": []
  },
  {
   "cell_type": "code",
   "execution_count": null,
   "id": "32a6793d-64ad-425a-aecf-c1b7305af683",
   "metadata": {},
   "outputs": [],
   "source": []
  },
  {
   "cell_type": "code",
   "execution_count": null,
   "id": "3e6bcd13-e9fc-4422-90c2-d839330d7388",
   "metadata": {},
   "outputs": [],
   "source": []
  },
  {
   "cell_type": "code",
   "execution_count": null,
   "id": "8c68c35a-c359-4147-aa01-164181c1b65e",
   "metadata": {},
   "outputs": [],
   "source": []
  },
  {
   "cell_type": "code",
   "execution_count": null,
   "id": "280b494b-579f-4157-8bc1-ab0704444d47",
   "metadata": {},
   "outputs": [],
   "source": []
  },
  {
   "cell_type": "code",
   "execution_count": null,
   "id": "f1a6b52d-74ff-469e-bc06-024eb2fddc39",
   "metadata": {},
   "outputs": [],
   "source": []
  }
 ],
 "metadata": {
  "kernelspec": {
   "display_name": "Python 3 (ipykernel)",
   "language": "python",
   "name": "python3"
  },
  "language_info": {
   "codemirror_mode": {
    "name": "ipython",
    "version": 3
   },
   "file_extension": ".py",
   "mimetype": "text/x-python",
   "name": "python",
   "nbconvert_exporter": "python",
   "pygments_lexer": "ipython3",
   "version": "3.9.12"
  }
 },
 "nbformat": 4,
 "nbformat_minor": 5
}
