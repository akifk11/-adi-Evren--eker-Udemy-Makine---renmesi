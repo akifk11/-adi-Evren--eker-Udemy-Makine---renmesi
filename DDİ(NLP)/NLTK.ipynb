{
 "cells": [
  {
   "cell_type": "code",
   "execution_count": 1,
   "id": "4f7e52df-cada-46e8-8f23-b020301f3483",
   "metadata": {},
   "outputs": [],
   "source": [
    "import numpy as np\n",
    "import pandas as pd"
   ]
  },
  {
   "cell_type": "code",
   "execution_count": 8,
   "id": "7ff947f4-3265-42b6-a9c9-6cb7a233019a",
   "metadata": {
    "collapsed": true,
    "jupyter": {
     "outputs_hidden": true
    },
    "tags": []
   },
   "outputs": [
    {
     "name": "stderr",
     "output_type": "stream",
     "text": [
      "/var/folders/sd/536xxkf96tl0x310zhjjdv680000gn/T/ipykernel_32690/2440017073.py:1: FutureWarning: The error_bad_lines argument has been deprecated and will be removed in a future version. Use on_bad_lines in the future.\n",
      "\n",
      "\n",
      "  yorumlar = pd.read_csv('Restaurant_Reviews.csv', error_bad_lines=False)\n",
      "b'Skipping line 15: expected 2 fields, saw 4\\nSkipping line 20: expected 2 fields, saw 3\\nSkipping line 23: expected 2 fields, saw 3\\nSkipping line 29: expected 2 fields, saw 3\\nSkipping line 30: expected 2 fields, saw 3\\nSkipping line 32: expected 2 fields, saw 4\\nSkipping line 35: expected 2 fields, saw 3\\nSkipping line 36: expected 2 fields, saw 3\\nSkipping line 39: expected 2 fields, saw 3\\nSkipping line 45: expected 2 fields, saw 3\\nSkipping line 46: expected 2 fields, saw 3\\nSkipping line 49: expected 2 fields, saw 3\\nSkipping line 51: expected 2 fields, saw 3\\nSkipping line 55: expected 2 fields, saw 3\\nSkipping line 57: expected 2 fields, saw 4\\nSkipping line 60: expected 2 fields, saw 3\\nSkipping line 61: expected 2 fields, saw 3\\nSkipping line 67: expected 2 fields, saw 3\\nSkipping line 72: expected 2 fields, saw 3\\nSkipping line 75: expected 2 fields, saw 3\\nSkipping line 76: expected 2 fields, saw 4\\nSkipping line 92: expected 2 fields, saw 3\\nSkipping line 93: expected 2 fields, saw 3\\nSkipping line 94: expected 2 fields, saw 3\\nSkipping line 101: expected 2 fields, saw 3\\nSkipping line 102: expected 2 fields, saw 3\\nSkipping line 103: expected 2 fields, saw 3\\nSkipping line 104: expected 2 fields, saw 3\\nSkipping line 105: expected 2 fields, saw 4\\nSkipping line 108: expected 2 fields, saw 3\\nSkipping line 112: expected 2 fields, saw 3\\nSkipping line 113: expected 2 fields, saw 3\\nSkipping line 115: expected 2 fields, saw 3\\nSkipping line 121: expected 2 fields, saw 3\\nSkipping line 123: expected 2 fields, saw 3\\nSkipping line 125: expected 2 fields, saw 3\\nSkipping line 126: expected 2 fields, saw 3\\nSkipping line 127: expected 2 fields, saw 4\\nSkipping line 129: expected 2 fields, saw 3\\nSkipping line 131: expected 2 fields, saw 3\\nSkipping line 134: expected 2 fields, saw 4\\nSkipping line 136: expected 2 fields, saw 4\\nSkipping line 137: expected 2 fields, saw 3\\nSkipping line 140: expected 2 fields, saw 3\\nSkipping line 148: expected 2 fields, saw 3\\nSkipping line 149: expected 2 fields, saw 3\\nSkipping line 161: expected 2 fields, saw 3\\nSkipping line 164: expected 2 fields, saw 3\\nSkipping line 172: expected 2 fields, saw 3\\nSkipping line 173: expected 2 fields, saw 3\\nSkipping line 175: expected 2 fields, saw 3\\nSkipping line 177: expected 2 fields, saw 3\\nSkipping line 179: expected 2 fields, saw 3\\nSkipping line 180: expected 2 fields, saw 3\\nSkipping line 182: expected 2 fields, saw 3\\nSkipping line 186: expected 2 fields, saw 3\\nSkipping line 188: expected 2 fields, saw 3\\nSkipping line 191: expected 2 fields, saw 3\\nSkipping line 194: expected 2 fields, saw 3\\nSkipping line 195: expected 2 fields, saw 3\\nSkipping line 202: expected 2 fields, saw 3\\nSkipping line 211: expected 2 fields, saw 4\\nSkipping line 212: expected 2 fields, saw 3\\nSkipping line 213: expected 2 fields, saw 3\\nSkipping line 222: expected 2 fields, saw 4\\nSkipping line 224: expected 2 fields, saw 5\\nSkipping line 226: expected 2 fields, saw 3\\nSkipping line 233: expected 2 fields, saw 3\\nSkipping line 235: expected 2 fields, saw 3\\nSkipping line 237: expected 2 fields, saw 3\\nSkipping line 239: expected 2 fields, saw 3\\nSkipping line 241: expected 2 fields, saw 3\\nSkipping line 245: expected 2 fields, saw 3\\nSkipping line 248: expected 2 fields, saw 3\\nSkipping line 255: expected 2 fields, saw 3\\nSkipping line 263: expected 2 fields, saw 3\\nSkipping line 265: expected 2 fields, saw 5\\nSkipping line 267: expected 2 fields, saw 3\\nSkipping line 268: expected 2 fields, saw 3\\nSkipping line 269: expected 2 fields, saw 3\\nSkipping line 271: expected 2 fields, saw 3\\nSkipping line 275: expected 2 fields, saw 4\\nSkipping line 277: expected 2 fields, saw 4\\nSkipping line 285: expected 2 fields, saw 3\\nSkipping line 291: expected 2 fields, saw 3\\nSkipping line 294: expected 2 fields, saw 4\\nSkipping line 295: expected 2 fields, saw 3\\nSkipping line 297: expected 2 fields, saw 3\\nSkipping line 308: expected 2 fields, saw 3\\nSkipping line 309: expected 2 fields, saw 3\\nSkipping line 310: expected 2 fields, saw 3\\nSkipping line 316: expected 2 fields, saw 3\\nSkipping line 318: expected 2 fields, saw 3\\nSkipping line 319: expected 2 fields, saw 4\\nSkipping line 320: expected 2 fields, saw 3\\nSkipping line 323: expected 2 fields, saw 3\\nSkipping line 325: expected 2 fields, saw 3\\nSkipping line 329: expected 2 fields, saw 3\\nSkipping line 330: expected 2 fields, saw 3\\nSkipping line 333: expected 2 fields, saw 3\\nSkipping line 334: expected 2 fields, saw 3\\nSkipping line 340: expected 2 fields, saw 3\\nSkipping line 343: expected 2 fields, saw 4\\nSkipping line 348: expected 2 fields, saw 3\\nSkipping line 349: expected 2 fields, saw 4\\nSkipping line 351: expected 2 fields, saw 3\\nSkipping line 357: expected 2 fields, saw 3\\nSkipping line 358: expected 2 fields, saw 3\\nSkipping line 367: expected 2 fields, saw 3\\nSkipping line 370: expected 2 fields, saw 3\\nSkipping line 374: expected 2 fields, saw 3\\nSkipping line 375: expected 2 fields, saw 4\\nSkipping line 379: expected 2 fields, saw 3\\nSkipping line 381: expected 2 fields, saw 4\\nSkipping line 392: expected 2 fields, saw 3\\nSkipping line 394: expected 2 fields, saw 3\\nSkipping line 397: expected 2 fields, saw 4\\nSkipping line 403: expected 2 fields, saw 3\\nSkipping line 405: expected 2 fields, saw 3\\nSkipping line 413: expected 2 fields, saw 3\\nSkipping line 414: expected 2 fields, saw 3\\nSkipping line 421: expected 2 fields, saw 4\\nSkipping line 423: expected 2 fields, saw 5\\nSkipping line 424: expected 2 fields, saw 3\\nSkipping line 430: expected 2 fields, saw 3\\nSkipping line 441: expected 2 fields, saw 3\\nSkipping line 444: expected 2 fields, saw 3\\nSkipping line 447: expected 2 fields, saw 3\\nSkipping line 450: expected 2 fields, saw 3\\nSkipping line 458: expected 2 fields, saw 3\\nSkipping line 469: expected 2 fields, saw 3\\nSkipping line 470: expected 2 fields, saw 3\\nSkipping line 472: expected 2 fields, saw 3\\nSkipping line 476: expected 2 fields, saw 3\\nSkipping line 477: expected 2 fields, saw 3\\nSkipping line 483: expected 2 fields, saw 3\\nSkipping line 487: expected 2 fields, saw 3\\nSkipping line 490: expected 2 fields, saw 3\\nSkipping line 494: expected 2 fields, saw 3\\nSkipping line 499: expected 2 fields, saw 3\\nSkipping line 502: expected 2 fields, saw 4\\nSkipping line 503: expected 2 fields, saw 3\\nSkipping line 512: expected 2 fields, saw 3\\nSkipping line 513: expected 2 fields, saw 3\\nSkipping line 519: expected 2 fields, saw 4\\nSkipping line 520: expected 2 fields, saw 3\\nSkipping line 521: expected 2 fields, saw 3\\nSkipping line 522: expected 2 fields, saw 3\\nSkipping line 524: expected 2 fields, saw 3\\nSkipping line 527: expected 2 fields, saw 3\\nSkipping line 529: expected 2 fields, saw 3\\nSkipping line 534: expected 2 fields, saw 3\\nSkipping line 535: expected 2 fields, saw 4\\nSkipping line 539: expected 2 fields, saw 5\\nSkipping line 546: expected 2 fields, saw 3\\nSkipping line 552: expected 2 fields, saw 3\\nSkipping line 556: expected 2 fields, saw 3\\nSkipping line 557: expected 2 fields, saw 3\\nSkipping line 575: expected 2 fields, saw 3\\nSkipping line 577: expected 2 fields, saw 3\\nSkipping line 581: expected 2 fields, saw 3\\nSkipping line 584: expected 2 fields, saw 3\\nSkipping line 588: expected 2 fields, saw 3\\nSkipping line 590: expected 2 fields, saw 4\\nSkipping line 603: expected 2 fields, saw 5\\nSkipping line 605: expected 2 fields, saw 4\\nSkipping line 614: expected 2 fields, saw 3\\nSkipping line 615: expected 2 fields, saw 3\\nSkipping line 619: expected 2 fields, saw 3\\nSkipping line 625: expected 2 fields, saw 3\\nSkipping line 631: expected 2 fields, saw 3\\nSkipping line 634: expected 2 fields, saw 3\\nSkipping line 639: expected 2 fields, saw 5\\nSkipping line 640: expected 2 fields, saw 3\\nSkipping line 644: expected 2 fields, saw 4\\nSkipping line 655: expected 2 fields, saw 3\\nSkipping line 662: expected 2 fields, saw 5\\nSkipping line 663: expected 2 fields, saw 3\\nSkipping line 670: expected 2 fields, saw 3\\nSkipping line 682: expected 2 fields, saw 3\\nSkipping line 685: expected 2 fields, saw 3\\nSkipping line 688: expected 2 fields, saw 5\\nSkipping line 689: expected 2 fields, saw 3\\nSkipping line 691: expected 2 fields, saw 3\\nSkipping line 693: expected 2 fields, saw 3\\nSkipping line 696: expected 2 fields, saw 4\\nSkipping line 698: expected 2 fields, saw 3\\nSkipping line 700: expected 2 fields, saw 3\\nSkipping line 701: expected 2 fields, saw 4\\nSkipping line 702: expected 2 fields, saw 3\\nSkipping line 711: expected 2 fields, saw 3\\nSkipping line 712: expected 2 fields, saw 3\\nSkipping line 716: expected 2 fields, saw 3\\nSkipping line 720: expected 2 fields, saw 3\\nSkipping line 722: expected 2 fields, saw 5\\nSkipping line 724: expected 2 fields, saw 3\\nSkipping line 728: expected 2 fields, saw 3\\nSkipping line 731: expected 2 fields, saw 3\\nSkipping line 732: expected 2 fields, saw 3\\nSkipping line 735: expected 2 fields, saw 3\\nSkipping line 737: expected 2 fields, saw 3\\nSkipping line 738: expected 2 fields, saw 3\\nSkipping line 739: expected 2 fields, saw 3\\nSkipping line 745: expected 2 fields, saw 4\\nSkipping line 749: expected 2 fields, saw 3\\nSkipping line 750: expected 2 fields, saw 3\\nSkipping line 752: expected 2 fields, saw 3\\nSkipping line 753: expected 2 fields, saw 4\\nSkipping line 754: expected 2 fields, saw 3\\nSkipping line 756: expected 2 fields, saw 3\\nSkipping line 757: expected 2 fields, saw 3\\nSkipping line 762: expected 2 fields, saw 4\\nSkipping line 764: expected 2 fields, saw 3\\nSkipping line 770: expected 2 fields, saw 6\\nSkipping line 775: expected 2 fields, saw 3\\nSkipping line 781: expected 2 fields, saw 3\\nSkipping line 784: expected 2 fields, saw 4\\nSkipping line 786: expected 2 fields, saw 4\\nSkipping line 789: expected 2 fields, saw 3\\nSkipping line 790: expected 2 fields, saw 4\\nSkipping line 791: expected 2 fields, saw 3\\nSkipping line 796: expected 2 fields, saw 3\\nSkipping line 798: expected 2 fields, saw 3\\nSkipping line 807: expected 2 fields, saw 4\\nSkipping line 810: expected 2 fields, saw 4\\nSkipping line 811: expected 2 fields, saw 3\\nSkipping line 814: expected 2 fields, saw 4\\nSkipping line 831: expected 2 fields, saw 4\\nSkipping line 835: expected 2 fields, saw 3\\nSkipping line 842: expected 2 fields, saw 3\\nSkipping line 844: expected 2 fields, saw 3\\nSkipping line 849: expected 2 fields, saw 3\\nSkipping line 850: expected 2 fields, saw 3\\nSkipping line 851: expected 2 fields, saw 5\\nSkipping line 856: expected 2 fields, saw 4\\nSkipping line 858: expected 2 fields, saw 3\\nSkipping line 862: expected 2 fields, saw 3\\nSkipping line 864: expected 2 fields, saw 4\\nSkipping line 867: expected 2 fields, saw 3\\nSkipping line 869: expected 2 fields, saw 3\\nSkipping line 870: expected 2 fields, saw 3\\nSkipping line 872: expected 2 fields, saw 3\\nSkipping line 874: expected 2 fields, saw 4\\nSkipping line 880: expected 2 fields, saw 3\\nSkipping line 881: expected 2 fields, saw 3\\nSkipping line 883: expected 2 fields, saw 3\\nSkipping line 886: expected 2 fields, saw 3\\nSkipping line 889: expected 2 fields, saw 3\\nSkipping line 891: expected 2 fields, saw 3\\nSkipping line 899: expected 2 fields, saw 3\\nSkipping line 901: expected 2 fields, saw 3\\nSkipping line 905: expected 2 fields, saw 3\\nSkipping line 907: expected 2 fields, saw 4\\nSkipping line 913: expected 2 fields, saw 3\\nSkipping line 914: expected 2 fields, saw 3\\nSkipping line 915: expected 2 fields, saw 3\\nSkipping line 918: expected 2 fields, saw 3\\nSkipping line 921: expected 2 fields, saw 3\\nSkipping line 922: expected 2 fields, saw 3\\nSkipping line 924: expected 2 fields, saw 3\\nSkipping line 926: expected 2 fields, saw 4\\nSkipping line 927: expected 2 fields, saw 3\\nSkipping line 928: expected 2 fields, saw 3\\nSkipping line 932: expected 2 fields, saw 4\\nSkipping line 933: expected 2 fields, saw 3\\nSkipping line 938: expected 2 fields, saw 3\\nSkipping line 940: expected 2 fields, saw 3\\nSkipping line 941: expected 2 fields, saw 4\\nSkipping line 947: expected 2 fields, saw 3\\nSkipping line 948: expected 2 fields, saw 4\\nSkipping line 951: expected 2 fields, saw 3\\nSkipping line 954: expected 2 fields, saw 3\\nSkipping line 956: expected 2 fields, saw 3\\nSkipping line 958: expected 2 fields, saw 3\\nSkipping line 962: expected 2 fields, saw 4\\nSkipping line 974: expected 2 fields, saw 3\\nSkipping line 976: expected 2 fields, saw 5\\nSkipping line 978: expected 2 fields, saw 3\\nSkipping line 981: expected 2 fields, saw 3\\nSkipping line 982: expected 2 fields, saw 3\\nSkipping line 986: expected 2 fields, saw 3\\nSkipping line 989: expected 2 fields, saw 4\\nSkipping line 1000: expected 2 fields, saw 3\\nSkipping line 1001: expected 2 fields, saw 4\\n'\n"
     ]
    }
   ],
   "source": [
    "yorumlar = pd.read_csv('Restaurant_Reviews.csv', error_bad_lines=False)"
   ]
  },
  {
   "cell_type": "code",
   "execution_count": 9,
   "id": "2dcdb161-8c86-43f9-a6bb-fb0cdf59530b",
   "metadata": {},
   "outputs": [
    {
     "data": {
      "text/html": [
       "<div>\n",
       "<style scoped>\n",
       "    .dataframe tbody tr th:only-of-type {\n",
       "        vertical-align: middle;\n",
       "    }\n",
       "\n",
       "    .dataframe tbody tr th {\n",
       "        vertical-align: top;\n",
       "    }\n",
       "\n",
       "    .dataframe thead th {\n",
       "        text-align: right;\n",
       "    }\n",
       "</style>\n",
       "<table border=\"1\" class=\"dataframe\">\n",
       "  <thead>\n",
       "    <tr style=\"text-align: right;\">\n",
       "      <th></th>\n",
       "      <th>Review</th>\n",
       "      <th>Liked</th>\n",
       "    </tr>\n",
       "  </thead>\n",
       "  <tbody>\n",
       "    <tr>\n",
       "      <th>0</th>\n",
       "      <td>Wow... Loved this place.</td>\n",
       "      <td>1.0</td>\n",
       "    </tr>\n",
       "    <tr>\n",
       "      <th>1</th>\n",
       "      <td>Crust is not good.</td>\n",
       "      <td>0.0</td>\n",
       "    </tr>\n",
       "    <tr>\n",
       "      <th>2</th>\n",
       "      <td>Not tasty and the texture was just nasty.</td>\n",
       "      <td>0.0</td>\n",
       "    </tr>\n",
       "    <tr>\n",
       "      <th>3</th>\n",
       "      <td>Stopped by during the late May bank holiday of...</td>\n",
       "      <td>1.0</td>\n",
       "    </tr>\n",
       "    <tr>\n",
       "      <th>4</th>\n",
       "      <td>The selection on the menu was great and so wer...</td>\n",
       "      <td>1.0</td>\n",
       "    </tr>\n",
       "    <tr>\n",
       "      <th>...</th>\n",
       "      <td>...</td>\n",
       "      <td>...</td>\n",
       "    </tr>\n",
       "    <tr>\n",
       "      <th>711</th>\n",
       "      <td>the presentation of the food was awful.</td>\n",
       "      <td>0.0</td>\n",
       "    </tr>\n",
       "    <tr>\n",
       "      <th>712</th>\n",
       "      <td>I can't tell you how disappointed I was.</td>\n",
       "      <td>0.0</td>\n",
       "    </tr>\n",
       "    <tr>\n",
       "      <th>713</th>\n",
       "      <td>I think food should have flavor and texture an...</td>\n",
       "      <td>0.0</td>\n",
       "    </tr>\n",
       "    <tr>\n",
       "      <th>714</th>\n",
       "      <td>Appetite instantly gone.</td>\n",
       "      <td>0.0</td>\n",
       "    </tr>\n",
       "    <tr>\n",
       "      <th>715</th>\n",
       "      <td>Overall I was not impressed and would not go b...</td>\n",
       "      <td>0.0</td>\n",
       "    </tr>\n",
       "  </tbody>\n",
       "</table>\n",
       "<p>716 rows × 2 columns</p>\n",
       "</div>"
      ],
      "text/plain": [
       "                                                Review  Liked\n",
       "0                             Wow... Loved this place.    1.0\n",
       "1                                   Crust is not good.    0.0\n",
       "2            Not tasty and the texture was just nasty.    0.0\n",
       "3    Stopped by during the late May bank holiday of...    1.0\n",
       "4    The selection on the menu was great and so wer...    1.0\n",
       "..                                                 ...    ...\n",
       "711            the presentation of the food was awful.    0.0\n",
       "712           I can't tell you how disappointed I was.    0.0\n",
       "713  I think food should have flavor and texture an...    0.0\n",
       "714                           Appetite instantly gone.    0.0\n",
       "715  Overall I was not impressed and would not go b...    0.0\n",
       "\n",
       "[716 rows x 2 columns]"
      ]
     },
     "execution_count": 9,
     "metadata": {},
     "output_type": "execute_result"
    }
   ],
   "source": [
    "yorumlar"
   ]
  },
  {
   "cell_type": "code",
   "execution_count": 10,
   "id": "fcbcccfd-df6f-482f-be2b-8f6af98ea517",
   "metadata": {},
   "outputs": [
    {
     "data": {
      "text/html": [
       "<div>\n",
       "<style scoped>\n",
       "    .dataframe tbody tr th:only-of-type {\n",
       "        vertical-align: middle;\n",
       "    }\n",
       "\n",
       "    .dataframe tbody tr th {\n",
       "        vertical-align: top;\n",
       "    }\n",
       "\n",
       "    .dataframe thead th {\n",
       "        text-align: right;\n",
       "    }\n",
       "</style>\n",
       "<table border=\"1\" class=\"dataframe\">\n",
       "  <thead>\n",
       "    <tr style=\"text-align: right;\">\n",
       "      <th></th>\n",
       "      <th>Review</th>\n",
       "      <th>Liked</th>\n",
       "    </tr>\n",
       "  </thead>\n",
       "  <tbody>\n",
       "    <tr>\n",
       "      <th>0</th>\n",
       "      <td>Wow... Loved this place.</td>\n",
       "      <td>1.0</td>\n",
       "    </tr>\n",
       "    <tr>\n",
       "      <th>1</th>\n",
       "      <td>Crust is not good.</td>\n",
       "      <td>0.0</td>\n",
       "    </tr>\n",
       "    <tr>\n",
       "      <th>2</th>\n",
       "      <td>Not tasty and the texture was just nasty.</td>\n",
       "      <td>0.0</td>\n",
       "    </tr>\n",
       "    <tr>\n",
       "      <th>3</th>\n",
       "      <td>Stopped by during the late May bank holiday of...</td>\n",
       "      <td>1.0</td>\n",
       "    </tr>\n",
       "    <tr>\n",
       "      <th>4</th>\n",
       "      <td>The selection on the menu was great and so wer...</td>\n",
       "      <td>1.0</td>\n",
       "    </tr>\n",
       "  </tbody>\n",
       "</table>\n",
       "</div>"
      ],
      "text/plain": [
       "                                              Review  Liked\n",
       "0                           Wow... Loved this place.    1.0\n",
       "1                                 Crust is not good.    0.0\n",
       "2          Not tasty and the texture was just nasty.    0.0\n",
       "3  Stopped by during the late May bank holiday of...    1.0\n",
       "4  The selection on the menu was great and so wer...    1.0"
      ]
     },
     "execution_count": 10,
     "metadata": {},
     "output_type": "execute_result"
    }
   ],
   "source": [
    "yorumlar.head()"
   ]
  },
  {
   "cell_type": "code",
   "execution_count": 15,
   "id": "70c223fa-f999-4937-b8ae-1ceb0e5b2af4",
   "metadata": {},
   "outputs": [],
   "source": [
    "with open(\"Restaurant_Reviews.csv\",\"r\") as file:\n",
    "\n",
    "    reviews = []\n",
    "\n",
    "    liked = []\n",
    "\n",
    "    for i, line in enumerate(file):\n",
    "\n",
    "        if i == 0:\n",
    "\n",
    "            continue\n",
    "\n",
    "        while not line[-1].isdigit():\n",
    "\n",
    "            line = line[:-1]\n",
    "\n",
    "            if line[-1].isdigit():\n",
    "\n",
    "                    break\n",
    "\n",
    "        reviews.append(line[:-2])\n",
    "\n",
    "        liked.append(line[-1])\n",
    "\n",
    "       \n",
    "\n",
    "yorumlar = pd.DataFrame(data=zip(reviews, liked), columns=['Reviews', 'Liked'])"
   ]
  },
  {
   "cell_type": "code",
   "execution_count": 12,
   "id": "01c93cec-a06f-4a52-b153-a0c5d9952f68",
   "metadata": {},
   "outputs": [
    {
     "data": {
      "text/html": [
       "<div>\n",
       "<style scoped>\n",
       "    .dataframe tbody tr th:only-of-type {\n",
       "        vertical-align: middle;\n",
       "    }\n",
       "\n",
       "    .dataframe tbody tr th {\n",
       "        vertical-align: top;\n",
       "    }\n",
       "\n",
       "    .dataframe thead th {\n",
       "        text-align: right;\n",
       "    }\n",
       "</style>\n",
       "<table border=\"1\" class=\"dataframe\">\n",
       "  <thead>\n",
       "    <tr style=\"text-align: right;\">\n",
       "      <th></th>\n",
       "      <th>Reviews</th>\n",
       "      <th>Liked</th>\n",
       "    </tr>\n",
       "  </thead>\n",
       "  <tbody>\n",
       "    <tr>\n",
       "      <th>0</th>\n",
       "      <td>Wow... Loved this place.</td>\n",
       "      <td>1</td>\n",
       "    </tr>\n",
       "    <tr>\n",
       "      <th>1</th>\n",
       "      <td>Crust is not good.</td>\n",
       "      <td>0</td>\n",
       "    </tr>\n",
       "    <tr>\n",
       "      <th>2</th>\n",
       "      <td>Not tasty and the texture was just nasty.</td>\n",
       "      <td>0</td>\n",
       "    </tr>\n",
       "    <tr>\n",
       "      <th>3</th>\n",
       "      <td>Stopped by during the late May bank holiday of...</td>\n",
       "      <td>1</td>\n",
       "    </tr>\n",
       "    <tr>\n",
       "      <th>4</th>\n",
       "      <td>The selection on the menu was great and so wer...</td>\n",
       "      <td>1</td>\n",
       "    </tr>\n",
       "    <tr>\n",
       "      <th>...</th>\n",
       "      <td>...</td>\n",
       "      <td>...</td>\n",
       "    </tr>\n",
       "    <tr>\n",
       "      <th>995</th>\n",
       "      <td>I think food should have flavor and texture an...</td>\n",
       "      <td>0</td>\n",
       "    </tr>\n",
       "    <tr>\n",
       "      <th>996</th>\n",
       "      <td>Appetite instantly gone.</td>\n",
       "      <td>0</td>\n",
       "    </tr>\n",
       "    <tr>\n",
       "      <th>997</th>\n",
       "      <td>Overall I was not impressed and would not go b...</td>\n",
       "      <td>0</td>\n",
       "    </tr>\n",
       "    <tr>\n",
       "      <th>998</th>\n",
       "      <td>The whole experience was underwhelming, and I ...</td>\n",
       "      <td>0</td>\n",
       "    </tr>\n",
       "    <tr>\n",
       "      <th>999</th>\n",
       "      <td>Then, as if I hadn't wasted enough of my life ...</td>\n",
       "      <td>0</td>\n",
       "    </tr>\n",
       "  </tbody>\n",
       "</table>\n",
       "<p>1000 rows × 2 columns</p>\n",
       "</div>"
      ],
      "text/plain": [
       "                                               Reviews Liked\n",
       "0                             Wow... Loved this place.     1\n",
       "1                                   Crust is not good.     0\n",
       "2            Not tasty and the texture was just nasty.     0\n",
       "3    Stopped by during the late May bank holiday of...     1\n",
       "4    The selection on the menu was great and so wer...     1\n",
       "..                                                 ...   ...\n",
       "995  I think food should have flavor and texture an...     0\n",
       "996                           Appetite instantly gone.     0\n",
       "997  Overall I was not impressed and would not go b...     0\n",
       "998  The whole experience was underwhelming, and I ...     0\n",
       "999  Then, as if I hadn't wasted enough of my life ...     0\n",
       "\n",
       "[1000 rows x 2 columns]"
      ]
     },
     "execution_count": 12,
     "metadata": {},
     "output_type": "execute_result"
    }
   ],
   "source": [
    "yorumlar"
   ]
  },
  {
   "cell_type": "code",
   "execution_count": 27,
   "id": "cfdd02ce-136d-44d9-8181-da61f69ab234",
   "metadata": {},
   "outputs": [],
   "source": [
    "# şimdi regular expretions'u import ediyorum\n",
    "# alfanumeric karakterlerin filtrelemesini yapıyoruz\n",
    "import re"
   ]
  },
  {
   "cell_type": "code",
   "execution_count": 28,
   "id": "d2dd5b25-632f-4abe-9898-c31443688f19",
   "metadata": {},
   "outputs": [],
   "source": [
    "yorum = re.sub('[^a-zA-Z]',' ',yorumlar['Reviews'][0])"
   ]
  },
  {
   "cell_type": "code",
   "execution_count": 29,
   "id": "2af5b4c8-019a-4b33-8638-2e49e7d97dae",
   "metadata": {},
   "outputs": [
    {
     "data": {
      "text/plain": [
       "'Wow    Loved this place '"
      ]
     },
     "execution_count": 29,
     "metadata": {},
     "output_type": "execute_result"
    }
   ],
   "source": [
    "yorum"
   ]
  },
  {
   "cell_type": "code",
   "execution_count": 30,
   "id": "05c84d8d-9a1f-4514-9019-411e01ef6829",
   "metadata": {},
   "outputs": [],
   "source": [
    "# '[^a-zA-Z]' bu alfabenin tamamı demektir ^ bu ifade değili demektir"
   ]
  },
  {
   "cell_type": "code",
   "execution_count": 38,
   "id": "868778c6-8d4d-4d8a-bbc1-bda18ec8a1dd",
   "metadata": {},
   "outputs": [
    {
     "ename": "AttributeError",
     "evalue": "'list' object has no attribute 'lower'",
     "output_type": "error",
     "traceback": [
      "\u001b[0;31m---------------------------------------------------------------------------\u001b[0m",
      "\u001b[0;31mAttributeError\u001b[0m                            Traceback (most recent call last)",
      "Input \u001b[0;32mIn [38]\u001b[0m, in \u001b[0;36m<cell line: 1>\u001b[0;34m()\u001b[0m\n\u001b[0;32m----> 1\u001b[0m \u001b[43myorum\u001b[49m\u001b[38;5;241;43m.\u001b[39;49m\u001b[43mlower\u001b[49m()\n",
      "\u001b[0;31mAttributeError\u001b[0m: 'list' object has no attribute 'lower'"
     ]
    }
   ],
   "source": [
    "yorum.lower()"
   ]
  },
  {
   "cell_type": "code",
   "execution_count": 39,
   "id": "4f24fb1d-435e-4a9d-a7b3-741936af28c5",
   "metadata": {},
   "outputs": [
    {
     "ename": "AttributeError",
     "evalue": "'list' object has no attribute 'split'",
     "output_type": "error",
     "traceback": [
      "\u001b[0;31m---------------------------------------------------------------------------\u001b[0m",
      "\u001b[0;31mAttributeError\u001b[0m                            Traceback (most recent call last)",
      "Input \u001b[0;32mIn [39]\u001b[0m, in \u001b[0;36m<cell line: 1>\u001b[0;34m()\u001b[0m\n\u001b[0;32m----> 1\u001b[0m \u001b[43myorum\u001b[49m\u001b[38;5;241;43m.\u001b[39;49m\u001b[43msplit\u001b[49m()\n",
      "\u001b[0;31mAttributeError\u001b[0m: 'list' object has no attribute 'split'"
     ]
    }
   ],
   "source": [
    "yorum.split()"
   ]
  },
  {
   "cell_type": "code",
   "execution_count": 40,
   "id": "bae59991-b93c-492e-a2b7-0efcabb47328",
   "metadata": {},
   "outputs": [
    {
     "data": {
      "text/plain": [
       "['wow', 'loved', 'this', 'place']"
      ]
     },
     "execution_count": 40,
     "metadata": {},
     "output_type": "execute_result"
    }
   ],
   "source": [
    "yorum"
   ]
  },
  {
   "cell_type": "code",
   "execution_count": 41,
   "id": "16939519-51d0-4997-9ae1-4f4e33a5b4e8",
   "metadata": {},
   "outputs": [],
   "source": [
    "import nltk"
   ]
  },
  {
   "cell_type": "code",
   "execution_count": 45,
   "id": "5ce9cfce-be66-4fc5-bdbd-d67bc5a0a775",
   "metadata": {},
   "outputs": [
    {
     "name": "stderr",
     "output_type": "stream",
     "text": [
      "[nltk_data] Downloading package stopwords to\n",
      "[nltk_data]     /Users/mehmetakifkiraz/nltk_data...\n",
      "[nltk_data]   Package stopwords is already up-to-date!\n"
     ]
    }
   ],
   "source": [
    "durma=nltk.download(\"stopwords\")"
   ]
  },
  {
   "cell_type": "code",
   "execution_count": 46,
   "id": "6f3d55ce-f543-429d-ac21-e2487c2c0217",
   "metadata": {},
   "outputs": [
    {
     "data": {
      "text/plain": [
       "True"
      ]
     },
     "execution_count": 46,
     "metadata": {},
     "output_type": "execute_result"
    }
   ],
   "source": [
    "durma"
   ]
  },
  {
   "cell_type": "code",
   "execution_count": 50,
   "id": "545c4398-0630-44fb-b717-cf149b77d3f7",
   "metadata": {},
   "outputs": [],
   "source": [
    "from nltk.stem.porter import PorterStemmer\n",
    "#kelimenin gövdesini almak için kullanılır"
   ]
  },
  {
   "cell_type": "code",
   "execution_count": 51,
   "id": "6b84c399-0533-41c3-948c-ba4ba6c2b1fd",
   "metadata": {},
   "outputs": [],
   "source": [
    "ps=PorterStemmer()"
   ]
  },
  {
   "cell_type": "code",
   "execution_count": 52,
   "id": "d2d1e19f-054a-4f4f-951b-f2303b479e3b",
   "metadata": {},
   "outputs": [],
   "source": [
    "from nltk.corpus import stopwords"
   ]
  },
  {
   "cell_type": "code",
   "execution_count": 54,
   "id": "2993de58-0afb-49f6-89ea-02a4aa47a1f7",
   "metadata": {},
   "outputs": [],
   "source": [
    "yorum = re.sub('[^a-zA-Z]',' ',yorumlar['Reviews'][0])\n",
    "yorum.lower()\n",
    "yorum.split()\n",
    "yorum=[ps.stem(kelime) for kelime in yorum if not kelime in set(stopwords.words(\"english\"))]"
   ]
  },
  {
   "cell_type": "code",
   "execution_count": 55,
   "id": "90eac771-5acb-4318-9c7f-a757dfa4d5d3",
   "metadata": {},
   "outputs": [
    {
     "data": {
      "text/plain": [
       "['w',\n",
       " 'w',\n",
       " ' ',\n",
       " ' ',\n",
       " ' ',\n",
       " ' ',\n",
       " 'l',\n",
       " 'v',\n",
       " 'e',\n",
       " ' ',\n",
       " 'h',\n",
       " ' ',\n",
       " 'p',\n",
       " 'l',\n",
       " 'c',\n",
       " 'e',\n",
       " ' ']"
      ]
     },
     "execution_count": 55,
     "metadata": {},
     "output_type": "execute_result"
    }
   ],
   "source": [
    "yorum"
   ]
  },
  {
   "cell_type": "code",
   "execution_count": 56,
   "id": "3e2209a7-ec0d-438c-ad39-5d0b71de2a41",
   "metadata": {
    "collapsed": true,
    "jupyter": {
     "outputs_hidden": true
    },
    "tags": []
   },
   "outputs": [
    {
     "data": {
      "text/plain": [
       "['i',\n",
       " 'me',\n",
       " 'my',\n",
       " 'myself',\n",
       " 'we',\n",
       " 'our',\n",
       " 'ours',\n",
       " 'ourselves',\n",
       " 'you',\n",
       " \"you're\",\n",
       " \"you've\",\n",
       " \"you'll\",\n",
       " \"you'd\",\n",
       " 'your',\n",
       " 'yours',\n",
       " 'yourself',\n",
       " 'yourselves',\n",
       " 'he',\n",
       " 'him',\n",
       " 'his',\n",
       " 'himself',\n",
       " 'she',\n",
       " \"she's\",\n",
       " 'her',\n",
       " 'hers',\n",
       " 'herself',\n",
       " 'it',\n",
       " \"it's\",\n",
       " 'its',\n",
       " 'itself',\n",
       " 'they',\n",
       " 'them',\n",
       " 'their',\n",
       " 'theirs',\n",
       " 'themselves',\n",
       " 'what',\n",
       " 'which',\n",
       " 'who',\n",
       " 'whom',\n",
       " 'this',\n",
       " 'that',\n",
       " \"that'll\",\n",
       " 'these',\n",
       " 'those',\n",
       " 'am',\n",
       " 'is',\n",
       " 'are',\n",
       " 'was',\n",
       " 'were',\n",
       " 'be',\n",
       " 'been',\n",
       " 'being',\n",
       " 'have',\n",
       " 'has',\n",
       " 'had',\n",
       " 'having',\n",
       " 'do',\n",
       " 'does',\n",
       " 'did',\n",
       " 'doing',\n",
       " 'a',\n",
       " 'an',\n",
       " 'the',\n",
       " 'and',\n",
       " 'but',\n",
       " 'if',\n",
       " 'or',\n",
       " 'because',\n",
       " 'as',\n",
       " 'until',\n",
       " 'while',\n",
       " 'of',\n",
       " 'at',\n",
       " 'by',\n",
       " 'for',\n",
       " 'with',\n",
       " 'about',\n",
       " 'against',\n",
       " 'between',\n",
       " 'into',\n",
       " 'through',\n",
       " 'during',\n",
       " 'before',\n",
       " 'after',\n",
       " 'above',\n",
       " 'below',\n",
       " 'to',\n",
       " 'from',\n",
       " 'up',\n",
       " 'down',\n",
       " 'in',\n",
       " 'out',\n",
       " 'on',\n",
       " 'off',\n",
       " 'over',\n",
       " 'under',\n",
       " 'again',\n",
       " 'further',\n",
       " 'then',\n",
       " 'once',\n",
       " 'here',\n",
       " 'there',\n",
       " 'when',\n",
       " 'where',\n",
       " 'why',\n",
       " 'how',\n",
       " 'all',\n",
       " 'any',\n",
       " 'both',\n",
       " 'each',\n",
       " 'few',\n",
       " 'more',\n",
       " 'most',\n",
       " 'other',\n",
       " 'some',\n",
       " 'such',\n",
       " 'no',\n",
       " 'nor',\n",
       " 'not',\n",
       " 'only',\n",
       " 'own',\n",
       " 'same',\n",
       " 'so',\n",
       " 'than',\n",
       " 'too',\n",
       " 'very',\n",
       " 's',\n",
       " 't',\n",
       " 'can',\n",
       " 'will',\n",
       " 'just',\n",
       " 'don',\n",
       " \"don't\",\n",
       " 'should',\n",
       " \"should've\",\n",
       " 'now',\n",
       " 'd',\n",
       " 'll',\n",
       " 'm',\n",
       " 'o',\n",
       " 're',\n",
       " 've',\n",
       " 'y',\n",
       " 'ain',\n",
       " 'aren',\n",
       " \"aren't\",\n",
       " 'couldn',\n",
       " \"couldn't\",\n",
       " 'didn',\n",
       " \"didn't\",\n",
       " 'doesn',\n",
       " \"doesn't\",\n",
       " 'hadn',\n",
       " \"hadn't\",\n",
       " 'hasn',\n",
       " \"hasn't\",\n",
       " 'haven',\n",
       " \"haven't\",\n",
       " 'isn',\n",
       " \"isn't\",\n",
       " 'ma',\n",
       " 'mightn',\n",
       " \"mightn't\",\n",
       " 'mustn',\n",
       " \"mustn't\",\n",
       " 'needn',\n",
       " \"needn't\",\n",
       " 'shan',\n",
       " \"shan't\",\n",
       " 'shouldn',\n",
       " \"shouldn't\",\n",
       " 'wasn',\n",
       " \"wasn't\",\n",
       " 'weren',\n",
       " \"weren't\",\n",
       " 'won',\n",
       " \"won't\",\n",
       " 'wouldn',\n",
       " \"wouldn't\"]"
      ]
     },
     "execution_count": 56,
     "metadata": {},
     "output_type": "execute_result"
    }
   ],
   "source": [
    "stopwords.words(\"english\")"
   ]
  },
  {
   "cell_type": "code",
   "execution_count": null,
   "id": "7c0111ca-5571-4ff3-ad78-4d39cce38fed",
   "metadata": {},
   "outputs": [],
   "source": []
  }
 ],
 "metadata": {
  "kernelspec": {
   "display_name": "Python 3 (ipykernel)",
   "language": "python",
   "name": "python3"
  },
  "language_info": {
   "codemirror_mode": {
    "name": "ipython",
    "version": 3
   },
   "file_extension": ".py",
   "mimetype": "text/x-python",
   "name": "python",
   "nbconvert_exporter": "python",
   "pygments_lexer": "ipython3",
   "version": "3.9.12"
  }
 },
 "nbformat": 4,
 "nbformat_minor": 5
}
