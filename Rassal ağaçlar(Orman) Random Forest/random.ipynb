{
 "cells": [
  {
   "cell_type": "code",
   "execution_count": 1,
   "id": "b8d1fa39-1d84-40d7-973f-7d3c85041154",
   "metadata": {},
   "outputs": [],
   "source": [
    "#ensemble learning yani kollektif öğrenme vardır"
   ]
  },
  {
   "cell_type": "code",
   "execution_count": 2,
   "id": "1b4c111d-38fa-4c94-b5a2-696bcef25506",
   "metadata": {},
   "outputs": [],
   "source": [
    "#1.kutuphaneler\n",
    "import numpy as np\n",
    "import matplotlib.pyplot as plt\n",
    "import pandas as pd"
   ]
  },
  {
   "cell_type": "code",
   "execution_count": 3,
   "id": "62393524-a54e-4b2d-b4bf-41acc9f55b63",
   "metadata": {},
   "outputs": [],
   "source": [
    "# veri yukleme\n",
    "veriler = pd.read_csv('maaslar.csv')\n",
    "\n",
    "x = veriler.iloc[:,1:2]\n",
    "y = veriler.iloc[:,2:]\n",
    "X = x.values\n",
    "Y = y.values"
   ]
  },
  {
   "cell_type": "code",
   "execution_count": 8,
   "id": "b881cd19-0f98-452e-b6d6-78af91d00b72",
   "metadata": {},
   "outputs": [
    {
     "data": {
      "image/png": "[encoded data removed]",
      "text/plain": [
       "<Figure size 432x288 with 1 Axes>"
      ]
     },
     "metadata": {
      "needs_background": "light"
     },
     "output_type": "display_data"
    },
    {
     "name": "stdout",
     "output_type": "stream",
     "text": [
      "[50000.]\n",
      "[10000.]\n"
     ]
    }
   ],
   "source": [
    "from sklearn.tree import DecisionTreeRegressor\n",
    "r_dt = DecisionTreeRegressor(random_state=0)\n",
    "r_dt.fit(X,Y)\n",
    "Z = X + 0.5\n",
    "K = X - 0.4\n",
    "plt.scatter(X,Y, color='red')\n",
    "plt.plot(X,r_dt.predict(X), color='blue')\n",
    "\n",
    "plt.plot(X,r_dt.predict(Z),color='green')\n",
    "plt.plot(X,r_dt.predict(K),color='yellow')\n",
    "\n",
    "\n",
    "plt.show()\n",
    "print(r_dt.predict([[11]]))\n",
    "print(r_dt.predict([[6.6]]))"
   ]
  },
  {
   "cell_type": "code",
   "execution_count": 10,
   "id": "1ca373bb-38f3-4c26-8b63-0cb9a7e6fb9c",
   "metadata": {},
   "outputs": [
    {
     "name": "stdout",
     "output_type": "stream",
     "text": [
      "[10500.]\n"
     ]
    },
    {
     "data": {
      "image/png": "[encoded data removed]",
      "text/plain": [
       "<Figure size 432x288 with 1 Axes>"
      ]
     },
     "metadata": {
      "needs_background": "light"
     },
     "output_type": "display_data"
    }
   ],
   "source": [
    "\n",
    "from sklearn.ensemble import RandomForestRegressor\n",
    "rf_reg=RandomForestRegressor(n_estimators = 10,random_state=0)\n",
    "#n_estimators kaç tane decision tree çizileceğini gösterir\n",
    "rf_reg.fit(X,Y.ravel())\n",
    "\n",
    "print(rf_reg.predict([[6.6]]))\n",
    "\n",
    "plt.scatter(X,Y,color='red')\n",
    "plt.plot(X,rf_reg.predict(X),color='blue')\n",
    "plt.plot(X,rf_reg.predict(Z),color='green')\n",
    "plt.plot(X,r_dt.predict(K),color='yellow')\n",
    "plt.show()"
   ]
  },
  {
   "cell_type": "code",
   "execution_count": 12,
   "id": "36d69547-e41c-491e-8ed8-b9934875229e",
   "metadata": {},
   "outputs": [
    {
     "data": {
      "text/html": [
       "<div>\n",
       "<style scoped>\n",
       "    .dataframe tbody tr th:only-of-type {\n",
       "        vertical-align: middle;\n",
       "    }\n",
       "\n",
       "    .dataframe tbody tr th {\n",
       "        vertical-align: top;\n",
       "    }\n",
       "\n",
       "    .dataframe thead th {\n",
       "        text-align: right;\n",
       "    }\n",
       "</style>\n",
       "<table border=\"1\" class=\"dataframe\">\n",
       "  <thead>\n",
       "    <tr style=\"text-align: right;\">\n",
       "      <th></th>\n",
       "      <th>maas</th>\n",
       "    </tr>\n",
       "  </thead>\n",
       "  <tbody>\n",
       "    <tr>\n",
       "      <th>0</th>\n",
       "      <td>2250</td>\n",
       "    </tr>\n",
       "    <tr>\n",
       "      <th>1</th>\n",
       "      <td>2500</td>\n",
       "    </tr>\n",
       "    <tr>\n",
       "      <th>2</th>\n",
       "      <td>3000</td>\n",
       "    </tr>\n",
       "    <tr>\n",
       "      <th>3</th>\n",
       "      <td>4000</td>\n",
       "    </tr>\n",
       "    <tr>\n",
       "      <th>4</th>\n",
       "      <td>5500</td>\n",
       "    </tr>\n",
       "    <tr>\n",
       "      <th>5</th>\n",
       "      <td>7500</td>\n",
       "    </tr>\n",
       "    <tr>\n",
       "      <th>6</th>\n",
       "      <td>10000</td>\n",
       "    </tr>\n",
       "    <tr>\n",
       "      <th>7</th>\n",
       "      <td>15000</td>\n",
       "    </tr>\n",
       "    <tr>\n",
       "      <th>8</th>\n",
       "      <td>25000</td>\n",
       "    </tr>\n",
       "    <tr>\n",
       "      <th>9</th>\n",
       "      <td>50000</td>\n",
       "    </tr>\n",
       "  </tbody>\n",
       "</table>\n",
       "</div>"
      ],
      "text/plain": [
       "    maas\n",
       "0   2250\n",
       "1   2500\n",
       "2   3000\n",
       "3   4000\n",
       "4   5500\n",
       "5   7500\n",
       "6  10000\n",
       "7  15000\n",
       "8  25000\n",
       "9  50000"
      ]
     },
     "execution_count": 12,
     "metadata": {},
     "output_type": "execute_result"
    }
   ],
   "source": [
    "y"
   ]
  },
  {
   "cell_type": "code",
   "execution_count": 13,
   "id": "e7cf1319-c21f-49ab-81c4-53704bdd08ea",
   "metadata": {},
   "outputs": [],
   "source": [
    "# random forest altında desicion tree kullanıyor lakin ondan farklı çalışıyor"
   ]
  },
  {
   "cell_type": "code",
   "execution_count": null,
   "id": "8394b089-0e3f-4a29-9641-fbb5f2058139",
   "metadata": {},
   "outputs": [],
   "source": []
  }
 ],
 "metadata": {
  "kernelspec": {
   "display_name": "Python 3 (ipykernel)",
   "language": "python",
   "name": "python3"
  },
  "language_info": {
   "codemirror_mode": {
    "name": "ipython",
    "version": 3
   },
   "file_extension": ".py",
   "mimetype": "text/x-python",
   "name": "python",
   "nbconvert_exporter": "python",
   "pygments_lexer": "ipython3",
   "version": "3.9.12"
  }
 },
 "nbformat": 4,
 "nbformat_minor": 5
}
